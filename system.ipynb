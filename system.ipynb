{
 "cells": [
  {
   "cell_type": "code",
   "execution_count": 15,
   "id": "39a94fa3-f012-41d7-b713-affa4e2c640d",
   "metadata": {},
   "outputs": [],
   "source": [
    "# Author: Sam Joshua Caballero\n",
    "# Date: 2025-06-13\n",
    "# Description: This notebook automates the calculations done to generate SEO website performance reports of Jem Enterprise."
   ]
  },
  {
   "cell_type": "code",
   "execution_count": 16,
   "id": "e158df26-e21d-4d3a-bcdd-d2f1218f59ba",
   "metadata": {},
   "outputs": [],
   "source": [
    "import pandas as pd\n",
    "import os\n",
    "import plotly.express as px"
   ]
  },
  {
   "cell_type": "markdown",
   "id": "9d1cc846-d6df-4e9d-9eb2-c82254612b80",
   "metadata": {},
   "source": [
    "## User Inputs"
   ]
  },
  {
   "cell_type": "code",
   "execution_count": 17,
   "id": "90a6781f-89a6-4c1e-946d-6d1101a93ee3",
   "metadata": {},
   "outputs": [],
   "source": [
    "month = \"Insert month here\"\n",
    "gsc_file_queries = \"GSC Input/queries.csv\"\n",
    "gsc_file_pages = \"GSC Input/pages.csv\"\n",
    "gsc_file_countries = \"GSC Input/countries.csv\"\n",
    "gsc_file_devices = \"GSC Input/devices.csv\"\n",
    "ahrefs_keywords = \"AHREFS Input/Ahrefs Keyword File\"\n",
    "ahrefs_pages = \"AHREFS Input/Ahrefs Top Pages File\"\n",
    "save_csv_files = True\n",
    "save_charts = True\n",
    "output_folder = \"Output\"\n",
    "\n",
    "# Process 1 A Configurations\n",
    "top_ten = True\n",
    "top_twenty = False\n",
    "top_one_hundred = False\n",
    "queries_with_most_clicks = 10 # options: 5, 10, 15, and 20\n",
    "queries_with_most_impressions = 15 # options: 10, 15, 20\n",
    "\n",
    "# Process 1/2 B Configurations \n",
    "top_5_best_performing_pages = True\n",
    "top_5_worst_performing_pages = True"
   ]
  },
  {
   "cell_type": "code",
   "execution_count": 18,
   "id": "dfe04aff-451b-443f-ab6a-22d03fb29d72",
   "metadata": {},
   "outputs": [],
   "source": [
    "# === Main Process ===\n",
    "try:\n",
    "    df_queries = pd.read_csv(gsc_file_queries)\n",
    "    df_pages = pd.read_csv(gsc_file_pages)\n",
    "    df_countries = pd.read_csv(gsc_file_countries)\n",
    "    df_devices = pd.read_csv(gsc_file_devices)\n",
    "except FileNotFoundError:\n",
    "    print(f\"Error: File/s not found. Please check the file name or path.\")\n",
    "    exit()\n",
    "except Exception as e:\n",
    "    print(f\"Error reading file: {e}\")\n",
    "    exit()"
   ]
  },
  {
   "cell_type": "markdown",
   "id": "be2d3e1d-a9b7-4e9f-86b0-cc0401f151d9",
   "metadata": {},
   "source": [
    "## Process 1: Google Search Console"
   ]
  },
  {
   "cell_type": "markdown",
   "id": "3ce762da-95b2-42c0-993e-3fd549940841",
   "metadata": {},
   "source": [
    "### Process 1A (Output 1): Total Number of Queries"
   ]
  },
  {
   "cell_type": "code",
   "execution_count": 21,
   "id": "5f0f08e4-cfaf-4887-9278-4d8c54489e70",
   "metadata": {},
   "outputs": [
    {
     "name": "stdout",
     "output_type": "stream",
     "text": [
      "Total Number of Queries: 393\n",
      "Saved to Output/1_GSC_Total_Queries.txt\n"
     ]
    }
   ],
   "source": [
    "# Process\n",
    "total_number_of_queries = df_queries.shape[0]\n",
    "\n",
    "# Print Results\n",
    "print(f\"Total Number of Queries: {total_number_of_queries}\")\n",
    "\n",
    "# Save to TXT\n",
    "if save_csv_files:\n",
    "    os.makedirs(output_folder, exist_ok=True)\n",
    "    with open(f'{output_folder}/1_GSC_Total_Queries.txt', 'w') as f:\n",
    "        f.write(f\"Total Number of Queries: {total_number_of_queries}\\n\")\n",
    "    print(f\"Saved to {output_folder}/1_GSC_Total_Queries.txt\")"
   ]
  },
  {
   "cell_type": "markdown",
   "id": "319cf6a9-0b52-4d3e-96a9-25b9795126ca",
   "metadata": {},
   "source": [
    "### Process 1A (Outputs 2-4): Queries with average position 1-10, 11-20, and 21-100"
   ]
  },
  {
   "cell_type": "code",
   "execution_count": 23,
   "id": "f482f4eb-7c5c-4714-b368-0d02d69f0c0f",
   "metadata": {},
   "outputs": [
    {
     "name": "stdout",
     "output_type": "stream",
     "text": [
      "\n",
      "Queries/Keywords with Position Range: Top 1 To 10\n",
      "2\n",
      "\n",
      "Queries/Keywords with Position Range: Pos 11 To 20\n",
      "11\n",
      "\n",
      "Queries/Keywords with Position Range: Pos 21 To 100\n",
      "379\n",
      "Saved to Output/2_GSC_Rank_1_to_10_Queries.csv\n",
      "Saved to Output/3_GSC_Rank_11_to_20_Queries.csv\n",
      "Saved to Output/4_GSC_Rank_11_to_20_Queries.csv\n"
     ]
    }
   ],
   "source": [
    "# Process\n",
    "def categorize_by_position(df_queries, top_ten=False, top_twenty=False, top_one_hundred=False):\n",
    "    result = {}\n",
    "\n",
    "    if top_ten:\n",
    "        result['top_1_to_10'] = df_queries[(df_queries['Position'] >= 1) & (df_queries['Position'] <= 10)]\n",
    "\n",
    "    if top_twenty:\n",
    "        result['pos_11_to_20'] = df_queries[(df_queries['Position'] > 10) & (df_queries['Position'] <= 20)]\n",
    "\n",
    "    if top_one_hundred:\n",
    "        result['pos_21_to_100'] = df_queries[(df_queries['Position'] > 20) & (df_queries['Position'] <= 100)]\n",
    "\n",
    "    return result\n",
    "    \n",
    "categories = categorize_by_position(df_queries, top_ten=True, top_twenty=True, top_one_hundred=True)\n",
    "\n",
    "# Print Results\n",
    "for label, data in categories.items():\n",
    "    print(f\"\\nQueries/Keywords with Position Range: {label.replace('_', ' ').title()}\")\n",
    "    print(data.shape[0])\n",
    "\n",
    "# Save to CSV\n",
    "if save_csv_files:\n",
    "    os.makedirs(output_folder, exist_ok=True) \n",
    "    categories['top_1_to_10'].to_csv(f'{output_folder}/2_GSC_Rank_1_to_10_Queries.csv', index=False)\n",
    "    print(f\"Saved to {output_folder}/2_GSC_Rank_1_to_10_Queries.csv\")\n",
    "    categories['pos_11_to_20'].to_csv(f'{output_folder}/3_GSC_Rank_11_to_20_Queries.csv', index=False)\n",
    "    print(f\"Saved to {output_folder}/3_GSC_Rank_11_to_20_Queries.csv\")\n",
    "    categories['pos_21_to_100'].to_csv(f'{output_folder}/4_GSC_Rank_11_to_20_Queries.csv', index=False)\n",
    "    print(f\"Saved to {output_folder}/4_GSC_Rank_11_to_20_Queries.csv\")"
   ]
  },
  {
   "cell_type": "markdown",
   "id": "4d0385fd-868d-4853-9704-c1e725222c78",
   "metadata": {},
   "source": [
    "### Process 1A (Outputs 5): Top x queries with the most clicks"
   ]
  },
  {
   "cell_type": "code",
   "execution_count": 24,
   "id": "efebd034-2237-4850-8d74-f1826f4ffcf1",
   "metadata": {},
   "outputs": [
    {
     "name": "stdout",
     "output_type": "stream",
     "text": [
      "\n",
      "Top 10 Queries with the Most Clicks:\n",
      "   Rank                               Top queries  Impressions  Clicks    CTR  \\\n",
      "0     1            how many lights for a 6ft tree          324       1  0.31%   \n",
      "1     2                   flocked christmas trees          381       0     0%   \n",
      "2     3          what is a flocked christmas tree          304       0     0%   \n",
      "3     4  how many lights for a 6ft christmas tree          176       0     0%   \n",
      "4     5        how many lights for christmas tree          169       0     0%   \n",
      "5     6                    what is a flocked tree          162       0     0%   \n",
      "6     7                     unlit christmas trees          158       0     0%   \n",
      "7     8    how to decorate a white christmas tree          152       0     0%   \n",
      "8     9         frosted vs flocked christmas tree          142       0     0%   \n",
      "9    10                    flocked christmas tree          141       0     0%   \n",
      "\n",
      "   Position  \n",
      "0     31.32  \n",
      "1     58.41  \n",
      "2     44.37  \n",
      "3     33.37  \n",
      "4     66.55  \n",
      "5     40.76  \n",
      "6     39.99  \n",
      "7     37.12  \n",
      "8     11.76  \n",
      "9     48.40  \n",
      "Saved to Output/5_GSC_Top_10_Queries_By_Clicks.csv\n"
     ]
    }
   ],
   "source": [
    "# Process\n",
    "def get_top_queries_by_clicks(df_queries, queries_with_most_clicks=10):\n",
    "    top_clicks_df = df_queries.sort_values(by='Clicks', ascending=False).head(queries_with_most_clicks)\n",
    "    return top_clicks_df\n",
    "\n",
    "top_clicks = get_top_queries_by_clicks(df_queries, queries_with_most_clicks)\n",
    "top_clicks = top_clicks.reset_index(drop=True)\n",
    "top_clicks.insert(0, 'Rank', top_clicks.index + 1)\n",
    "\n",
    "# Print Results\n",
    "print(f\"\\nTop {queries_with_most_clicks} Queries with the Most Clicks:\")\n",
    "print(top_clicks[['Rank', 'Top queries', 'Impressions', 'Clicks', 'CTR', 'Position']])\n",
    "\n",
    "# Save to CSV\n",
    "if save_csv_files:\n",
    "    os.makedirs(output_folder, exist_ok=True) \n",
    "    top_clicks.to_csv(f'{output_folder}/5_GSC_Top_{queries_with_most_clicks}_Queries_By_Clicks.csv', index=False)\n",
    "    print(f\"Saved to {output_folder}/5_GSC_Top_{queries_with_most_clicks}_Queries_By_Clicks.csv\")"
   ]
  },
  {
   "cell_type": "markdown",
   "id": "15ba29d0-2dd6-4677-b915-f1667f55bfbd",
   "metadata": {},
   "source": [
    "### Process 1A (Outputs 6): Top x queries with the most impressions"
   ]
  },
  {
   "cell_type": "code",
   "execution_count": 25,
   "id": "12b198e7-fd0a-4181-b7e0-993434086bce",
   "metadata": {},
   "outputs": [
    {
     "name": "stdout",
     "output_type": "stream",
     "text": [
      "\n",
      "Top 15 Queries with the Most Impressions:\n",
      "    Rank                               Top queries  Impressions  Clicks  \\\n",
      "0      1                   flocked christmas trees          381       0   \n",
      "1      2            how many lights for a 6ft tree          324       1   \n",
      "2      3          what is a flocked christmas tree          304       0   \n",
      "3      4  how many lights for a 6ft christmas tree          176       0   \n",
      "4      5        how many lights for christmas tree          169       0   \n",
      "5      6                    what is a flocked tree          162       0   \n",
      "6      7                     unlit christmas trees          158       0   \n",
      "7      8    how to decorate a white christmas tree          152       0   \n",
      "8      9         frosted vs flocked christmas tree          142       0   \n",
      "9     10                    flocked christmas tree          141       0   \n",
      "10    11                      white christmas tree          134       0   \n",
      "11    12            what is flocked christmas tree          105       0   \n",
      "12    13               how to store christmas tree           90       0   \n",
      "13    14     what does flocked christmas tree mean           90       0   \n",
      "14    15          merry and bright christmas decor           86       0   \n",
      "\n",
      "      CTR  Position  \n",
      "0      0%     58.41  \n",
      "1   0.31%     31.32  \n",
      "2      0%     44.37  \n",
      "3      0%     33.37  \n",
      "4      0%     66.55  \n",
      "5      0%     40.76  \n",
      "6      0%     39.99  \n",
      "7      0%     37.12  \n",
      "8      0%     11.76  \n",
      "9      0%     48.40  \n",
      "10     0%     33.61  \n",
      "11     0%     45.64  \n",
      "12     0%     57.13  \n",
      "13     0%     31.30  \n",
      "14     0%     61.20  \n",
      "Saved to Output/6_GSC_Top_15_Queries_By_Impressions.csv\n"
     ]
    }
   ],
   "source": [
    "# Process\n",
    "def get_top_queries_by_impressions(df_queries, queries_with_most_impressions=15):\n",
    "    top_impressions_df = df_queries.sort_values(by='Impressions', ascending=False).head(queries_with_most_impressions)\n",
    "    return top_impressions_df\n",
    "\n",
    "top_impressions = get_top_queries_by_impressions(df_queries, queries_with_most_impressions)\n",
    "top_impressions = top_impressions.reset_index(drop=True)\n",
    "top_impressions.insert(0, 'Rank', top_impressions.index + 1)\n",
    "\n",
    "# Print Results\n",
    "print(f\"\\nTop {queries_with_most_impressions} Queries with the Most Impressions:\")\n",
    "print(top_impressions[['Rank', 'Top queries', 'Impressions', 'Clicks', 'CTR', 'Position']])\n",
    "\n",
    "# Save to CSV\n",
    "if save_csv_files:\n",
    "    os.makedirs(output_folder, exist_ok=True)  \n",
    "    top_impressions.to_csv(f'{output_folder}/6_GSC_Top_{queries_with_most_impressions}_Queries_By_Impressions.csv', index=False)\n",
    "    print(f\"Saved to {output_folder}/6_GSC_Top_{queries_with_most_impressions}_Queries_By_Impressions.csv\")"
   ]
  },
  {
   "cell_type": "markdown",
   "id": "e0dbda39-31ce-48bc-9b27-8db36e8db3c4",
   "metadata": {},
   "source": [
    "## Process 1B (Outputs 1-2) Top performing pages"
   ]
  },
  {
   "cell_type": "code",
   "execution_count": 26,
   "id": "45d505c5-43a8-4f50-9cfb-51763dee1e02",
   "metadata": {},
   "outputs": [
    {
     "name": "stdout",
     "output_type": "stream",
     "text": [
      "Top Performing Page:\n",
      "                                           Top pages  Clicks  Impressions  \\\n",
      "0  https://hearthfir.com/blogs/hearth-fir-blog/ho...       1         2373   \n",
      "\n",
      "     CTR  Position  \n",
      "0  0.04%     41.71  \n",
      "\n",
      "Top 5 Performing Pages:\n",
      "                                           Top pages  Clicks  Impressions  \\\n",
      "0  https://hearthfir.com/blogs/hearth-fir-blog/ho...       1         2373   \n",
      "1              https://hearthfir.com/collections/all       1          137   \n",
      "2   https://hearthfir.com/collections/special-offers       1            8   \n",
      "3  https://hearthfir.com/blogs/hearth-fir-blog/fl...       0         1190   \n",
      "4  https://hearthfir.com/blogs/hearth-fir-blog/ch...       0          913   \n",
      "\n",
      "     CTR  Position  \n",
      "0  0.04%     41.71  \n",
      "1  0.73%     63.29  \n",
      "2  12.5%     11.25  \n",
      "3     0%     35.82  \n",
      "4     0%     49.26  \n",
      "\n",
      "Saved to Output/7_GSC_top_performing_page.csv\n",
      "Saved to Output/8_GSC_top_5_performing_pages.csv\n"
     ]
    }
   ],
   "source": [
    "def extract_top_performing_pages(\n",
    "    output_folder,\n",
    "    top_5_best_performing_pages=False,\n",
    "    save_csv_files=False\n",
    "):\n",
    "\n",
    "    # Process\n",
    "    top_page = df_pages.head(1)\n",
    "    top_5_pages = df_pages.head(5) if top_5_best_performing_pages else None\n",
    "\n",
    "    # Print Results\n",
    "    print(\"Top Performing Page:\")\n",
    "    print(top_page)\n",
    "    \n",
    "    if top_5_best_performing_pages:\n",
    "        print(\"\\nTop 5 Performing Pages:\")\n",
    "        print(top_5_pages)\n",
    "\n",
    "    # Save to CSV\n",
    "    if save_csv_files:\n",
    "        os.makedirs(output_folder, exist_ok=True)  # Ensure the folder exists\n",
    "        top_page.to_csv(f\"{output_folder}/7_GSC_top_performing_page.csv\", index=False)\n",
    "        print(f\"\\nSaved to {output_folder}/7_GSC_top_performing_page.csv\")\n",
    "\n",
    "        if top_5_best_performing_pages:\n",
    "            top_5_pages.to_csv(f\"{output_folder}/8_GSC_top_5_performing_pages.csv\", index=False)\n",
    "            print(f\"Saved to {output_folder}/8_GSC_top_5_performing_pages.csv\")\n",
    "\n",
    "    return top_page, top_5_pages\n",
    "\n",
    "top_page, top_5_pages = extract_top_performing_pages(output_folder, top_5_best_performing_pages, save_csv_files)"
   ]
  },
  {
   "cell_type": "markdown",
   "id": "8de69446-4ca0-4d67-946d-eab03bfbb0b9",
   "metadata": {},
   "source": [
    "## Process 1B (Outputs 3-4) Underperforming performing pages"
   ]
  },
  {
   "cell_type": "code",
   "execution_count": 27,
   "id": "92e8feeb-8ff5-430c-8291-dc8c635b9106",
   "metadata": {},
   "outputs": [
    {
     "name": "stdout",
     "output_type": "stream",
     "text": [
      "Worst Performing Page:\n",
      "                                           Top pages  Clicks  Impressions CTR  \\\n",
      "51  https://hearthfir.com/products/9-ft-flocked-tree       0            1  0%   \n",
      "\n",
      "    Position  \n",
      "51      19.0  \n",
      "\n",
      "Bottom 5 Performing Pages:\n",
      "                                            Top pages  Clicks  Impressions  \\\n",
      "47  https://hearthfir.com/collections/under-6-ft-a...       0            1   \n",
      "48      https://hearthfir.com/pages/pipeda-compliance       0            1   \n",
      "49  https://hearthfir.com/products/7-ft-pre-lit-mixed       0            1   \n",
      "50    https://hearthfir.com/products/7-ft-unlit-mixed       0            1   \n",
      "51   https://hearthfir.com/products/9-ft-flocked-tree       0            1   \n",
      "\n",
      "   CTR  Position  \n",
      "47  0%       5.0  \n",
      "48  0%       5.0  \n",
      "49  0%       5.0  \n",
      "50  0%      10.0  \n",
      "51  0%      19.0  \n",
      "\n",
      "Saved to Output/9_GSC_worst_performing_page.csv\n",
      "Saved to Output/10_GSC_bottom_5_performing_pages.csv\n"
     ]
    }
   ],
   "source": [
    "def extract_underperforming_performing_pages(\n",
    "    output_folder,\n",
    "    top_5_worst_performing_pages=False,\n",
    "    save_csv_files=False\n",
    "):\n",
    "\n",
    "    # Process\n",
    "    bottom_page = df_pages.tail(1)\n",
    "    bottom_5_pages = df_pages.tail(5) if top_5_worst_performing_pages else None\n",
    "\n",
    "    # Print Results\n",
    "    print(\"Worst Performing Page:\")\n",
    "    print(bottom_page)\n",
    "    \n",
    "    if top_5_worst_performing_pages:\n",
    "        print(\"\\nBottom 5 Performing Pages:\")\n",
    "        print(bottom_5_pages)\n",
    "\n",
    "    # Save to CSV\n",
    "    if save_csv_files:\n",
    "        os.makedirs(output_folder, exist_ok=True)  \n",
    "        bottom_page.to_csv(f\"{output_folder}/9_GSC_worst_performing_page.csv\", index=False)\n",
    "        print(f\"\\nSaved to {output_folder}/9_GSC_worst_performing_page.csv\")\n",
    "\n",
    "        if top_5_worst_performing_pages:\n",
    "            bottom_5_pages.to_csv(f\"{output_folder}/10_GSC_bottom_5_performing_pages.csv\", index=False)\n",
    "            print(f\"Saved to {output_folder}/10_GSC_bottom_5_performing_pages.csv\")\n",
    "\n",
    "    return bottom_page, bottom_5_pages\n",
    "\n",
    "bottom_page, bottom_5_pages = extract_underperforming_performing_pages(output_folder, top_5_worst_performing_pages, save_csv_files)"
   ]
  },
  {
   "cell_type": "markdown",
   "id": "f837afa9-1dbc-4305-bc66-894c6e2bc825",
   "metadata": {},
   "source": [
    "## Process 1C (Output 1) Top 5 Countries"
   ]
  },
  {
   "cell_type": "code",
   "execution_count": 28,
   "id": "29382bde-ac15-43d9-9687-dc7b14389cd8",
   "metadata": {},
   "outputs": [
    {
     "name": "stdout",
     "output_type": "stream",
     "text": [
      "Top 5 Countries:\n",
      "          Country  Clicks  Impressions    CTR  Position\n",
      "0     Philippines       3           67  4.48%     40.91\n",
      "1   United States       0         4007     0%     43.57\n",
      "2          Brazil       0         1281     0%     42.95\n",
      "3          Canada       0          488     0%     55.28\n",
      "4  United Kingdom       0          419     0%     46.76\n",
      "\n",
      "Saved to Output/11_GSC_top_countries.csv\n"
     ]
    }
   ],
   "source": [
    "def extract_top_countries(\n",
    "    output_folder,\n",
    "    save_csv_files=False\n",
    "):\n",
    "\n",
    "    # Process\n",
    "    top_countries = df_countries.head(5)\n",
    "\n",
    "    # Print Results\n",
    "    print(\"Top 5 Countries:\")\n",
    "    print(top_countries)\n",
    "\n",
    "    # Save to CSV\n",
    "    if save_csv_files:\n",
    "        os.makedirs(output_folder, exist_ok=True)  \n",
    "        top_countries.to_csv(f\"{output_folder}/11_GSC_top_countries.csv\", index=False)\n",
    "        print(f\"\\nSaved to {output_folder}/11_GSC_top_countries.csv\")\n",
    "\n",
    "    return top_countries\n",
    "\n",
    "top_countries = extract_top_countries(output_folder, save_csv_files)"
   ]
  },
  {
   "cell_type": "markdown",
   "id": "81788fbc-613a-4635-921d-bc448f95b13a",
   "metadata": {},
   "source": [
    "## Process 1D (Output 1) Pie Chart for Clicks by Device Type"
   ]
  },
  {
   "cell_type": "code",
   "execution_count": 30,
   "id": "85cd9f9f-49f3-40eb-a95d-9e26032d52e0",
   "metadata": {},
   "outputs": [
    {
     "data": {
      "application/vnd.plotly.v1+json": {
       "config": {
        "plotlyServerURL": "https://plot.ly"
       },
       "data": [
        {
         "domain": {
          "x": [
           0,
           1
          ],
          "y": [
           0,
           1
          ]
         },
         "hole": 0,
         "hovertemplate": "Device=%{label}<br>Clicks=%{value}<extra></extra>",
         "insidetextorientation": "auto",
         "labels": [
          "Desktop",
          "Mobile",
          "Tablet"
         ],
         "legendgroup": "",
         "name": "",
         "pull": [
          0.05,
          0.05,
          0.05
         ],
         "showlegend": true,
         "textinfo": "value",
         "textposition": "inside",
         "type": "pie",
         "values": {
          "_inputArray": {
           "0": 3,
           "1": 0,
           "2": 0,
           "bdata": "AwAA",
           "dtype": "i1",
           "shape": "3"
          },
          "bdata": "AwAA",
          "dtype": "i1"
         }
        }
       ],
       "layout": {
        "autosize": true,
        "legend": {
         "title": {
          "text": "Device"
         },
         "tracegroupgap": 0
        },
        "template": {
         "data": {
          "bar": [
           {
            "error_x": {
             "color": "#2a3f5f"
            },
            "error_y": {
             "color": "#2a3f5f"
            },
            "marker": {
             "line": {
              "color": "#E5ECF6",
              "width": 0.5
             },
             "pattern": {
              "fillmode": "overlay",
              "size": 10,
              "solidity": 0.2
             }
            },
            "type": "bar"
           }
          ],
          "barpolar": [
           {
            "marker": {
             "line": {
              "color": "#E5ECF6",
              "width": 0.5
             },
             "pattern": {
              "fillmode": "overlay",
              "size": 10,
              "solidity": 0.2
             }
            },
            "type": "barpolar"
           }
          ],
          "carpet": [
           {
            "aaxis": {
             "endlinecolor": "#2a3f5f",
             "gridcolor": "white",
             "linecolor": "white",
             "minorgridcolor": "white",
             "startlinecolor": "#2a3f5f"
            },
            "baxis": {
             "endlinecolor": "#2a3f5f",
             "gridcolor": "white",
             "linecolor": "white",
             "minorgridcolor": "white",
             "startlinecolor": "#2a3f5f"
            },
            "type": "carpet"
           }
          ],
          "choropleth": [
           {
            "colorbar": {
             "outlinewidth": 0,
             "ticks": ""
            },
            "type": "choropleth"
           }
          ],
          "contour": [
           {
            "colorbar": {
             "outlinewidth": 0,
             "ticks": ""
            },
            "colorscale": [
             [
              0,
              "#0d0887"
             ],
             [
              0.1111111111111111,
              "#46039f"
             ],
             [
              0.2222222222222222,
              "#7201a8"
             ],
             [
              0.3333333333333333,
              "#9c179e"
             ],
             [
              0.4444444444444444,
              "#bd3786"
             ],
             [
              0.5555555555555556,
              "#d8576b"
             ],
             [
              0.6666666666666666,
              "#ed7953"
             ],
             [
              0.7777777777777778,
              "#fb9f3a"
             ],
             [
              0.8888888888888888,
              "#fdca26"
             ],
             [
              1,
              "#f0f921"
             ]
            ],
            "type": "contour"
           }
          ],
          "contourcarpet": [
           {
            "colorbar": {
             "outlinewidth": 0,
             "ticks": ""
            },
            "type": "contourcarpet"
           }
          ],
          "heatmap": [
           {
            "colorbar": {
             "outlinewidth": 0,
             "ticks": ""
            },
            "colorscale": [
             [
              0,
              "#0d0887"
             ],
             [
              0.1111111111111111,
              "#46039f"
             ],
             [
              0.2222222222222222,
              "#7201a8"
             ],
             [
              0.3333333333333333,
              "#9c179e"
             ],
             [
              0.4444444444444444,
              "#bd3786"
             ],
             [
              0.5555555555555556,
              "#d8576b"
             ],
             [
              0.6666666666666666,
              "#ed7953"
             ],
             [
              0.7777777777777778,
              "#fb9f3a"
             ],
             [
              0.8888888888888888,
              "#fdca26"
             ],
             [
              1,
              "#f0f921"
             ]
            ],
            "type": "heatmap"
           }
          ],
          "histogram": [
           {
            "marker": {
             "pattern": {
              "fillmode": "overlay",
              "size": 10,
              "solidity": 0.2
             }
            },
            "type": "histogram"
           }
          ],
          "histogram2d": [
           {
            "colorbar": {
             "outlinewidth": 0,
             "ticks": ""
            },
            "colorscale": [
             [
              0,
              "#0d0887"
             ],
             [
              0.1111111111111111,
              "#46039f"
             ],
             [
              0.2222222222222222,
              "#7201a8"
             ],
             [
              0.3333333333333333,
              "#9c179e"
             ],
             [
              0.4444444444444444,
              "#bd3786"
             ],
             [
              0.5555555555555556,
              "#d8576b"
             ],
             [
              0.6666666666666666,
              "#ed7953"
             ],
             [
              0.7777777777777778,
              "#fb9f3a"
             ],
             [
              0.8888888888888888,
              "#fdca26"
             ],
             [
              1,
              "#f0f921"
             ]
            ],
            "type": "histogram2d"
           }
          ],
          "histogram2dcontour": [
           {
            "colorbar": {
             "outlinewidth": 0,
             "ticks": ""
            },
            "colorscale": [
             [
              0,
              "#0d0887"
             ],
             [
              0.1111111111111111,
              "#46039f"
             ],
             [
              0.2222222222222222,
              "#7201a8"
             ],
             [
              0.3333333333333333,
              "#9c179e"
             ],
             [
              0.4444444444444444,
              "#bd3786"
             ],
             [
              0.5555555555555556,
              "#d8576b"
             ],
             [
              0.6666666666666666,
              "#ed7953"
             ],
             [
              0.7777777777777778,
              "#fb9f3a"
             ],
             [
              0.8888888888888888,
              "#fdca26"
             ],
             [
              1,
              "#f0f921"
             ]
            ],
            "type": "histogram2dcontour"
           }
          ],
          "mesh3d": [
           {
            "colorbar": {
             "outlinewidth": 0,
             "ticks": ""
            },
            "type": "mesh3d"
           }
          ],
          "parcoords": [
           {
            "line": {
             "colorbar": {
              "outlinewidth": 0,
              "ticks": ""
             }
            },
            "type": "parcoords"
           }
          ],
          "pie": [
           {
            "automargin": true,
            "type": "pie"
           }
          ],
          "scatter": [
           {
            "fillpattern": {
             "fillmode": "overlay",
             "size": 10,
             "solidity": 0.2
            },
            "type": "scatter"
           }
          ],
          "scatter3d": [
           {
            "line": {
             "colorbar": {
              "outlinewidth": 0,
              "ticks": ""
             }
            },
            "marker": {
             "colorbar": {
              "outlinewidth": 0,
              "ticks": ""
             }
            },
            "type": "scatter3d"
           }
          ],
          "scattercarpet": [
           {
            "marker": {
             "colorbar": {
              "outlinewidth": 0,
              "ticks": ""
             }
            },
            "type": "scattercarpet"
           }
          ],
          "scattergeo": [
           {
            "marker": {
             "colorbar": {
              "outlinewidth": 0,
              "ticks": ""
             }
            },
            "type": "scattergeo"
           }
          ],
          "scattergl": [
           {
            "marker": {
             "colorbar": {
              "outlinewidth": 0,
              "ticks": ""
             }
            },
            "type": "scattergl"
           }
          ],
          "scattermap": [
           {
            "marker": {
             "colorbar": {
              "outlinewidth": 0,
              "ticks": ""
             }
            },
            "type": "scattermap"
           }
          ],
          "scattermapbox": [
           {
            "marker": {
             "colorbar": {
              "outlinewidth": 0,
              "ticks": ""
             }
            },
            "type": "scattermapbox"
           }
          ],
          "scatterpolar": [
           {
            "marker": {
             "colorbar": {
              "outlinewidth": 0,
              "ticks": ""
             }
            },
            "type": "scatterpolar"
           }
          ],
          "scatterpolargl": [
           {
            "marker": {
             "colorbar": {
              "outlinewidth": 0,
              "ticks": ""
             }
            },
            "type": "scatterpolargl"
           }
          ],
          "scatterternary": [
           {
            "marker": {
             "colorbar": {
              "outlinewidth": 0,
              "ticks": ""
             }
            },
            "type": "scatterternary"
           }
          ],
          "surface": [
           {
            "colorbar": {
             "outlinewidth": 0,
             "ticks": ""
            },
            "colorscale": [
             [
              0,
              "#0d0887"
             ],
             [
              0.1111111111111111,
              "#46039f"
             ],
             [
              0.2222222222222222,
              "#7201a8"
             ],
             [
              0.3333333333333333,
              "#9c179e"
             ],
             [
              0.4444444444444444,
              "#bd3786"
             ],
             [
              0.5555555555555556,
              "#d8576b"
             ],
             [
              0.6666666666666666,
              "#ed7953"
             ],
             [
              0.7777777777777778,
              "#fb9f3a"
             ],
             [
              0.8888888888888888,
              "#fdca26"
             ],
             [
              1,
              "#f0f921"
             ]
            ],
            "type": "surface"
           }
          ],
          "table": [
           {
            "cells": {
             "fill": {
              "color": "#EBF0F8"
             },
             "line": {
              "color": "white"
             }
            },
            "header": {
             "fill": {
              "color": "#C8D4E3"
             },
             "line": {
              "color": "white"
             }
            },
            "type": "table"
           }
          ]
         },
         "layout": {
          "annotationdefaults": {
           "arrowcolor": "#2a3f5f",
           "arrowhead": 0,
           "arrowwidth": 1
          },
          "autotypenumbers": "strict",
          "coloraxis": {
           "colorbar": {
            "outlinewidth": 0,
            "ticks": ""
           }
          },
          "colorscale": {
           "diverging": [
            [
             0,
             "#8e0152"
            ],
            [
             0.1,
             "#c51b7d"
            ],
            [
             0.2,
             "#de77ae"
            ],
            [
             0.3,
             "#f1b6da"
            ],
            [
             0.4,
             "#fde0ef"
            ],
            [
             0.5,
             "#f7f7f7"
            ],
            [
             0.6,
             "#e6f5d0"
            ],
            [
             0.7,
             "#b8e186"
            ],
            [
             0.8,
             "#7fbc41"
            ],
            [
             0.9,
             "#4d9221"
            ],
            [
             1,
             "#276419"
            ]
           ],
           "sequential": [
            [
             0,
             "#0d0887"
            ],
            [
             0.1111111111111111,
             "#46039f"
            ],
            [
             0.2222222222222222,
             "#7201a8"
            ],
            [
             0.3333333333333333,
             "#9c179e"
            ],
            [
             0.4444444444444444,
             "#bd3786"
            ],
            [
             0.5555555555555556,
             "#d8576b"
            ],
            [
             0.6666666666666666,
             "#ed7953"
            ],
            [
             0.7777777777777778,
             "#fb9f3a"
            ],
            [
             0.8888888888888888,
             "#fdca26"
            ],
            [
             1,
             "#f0f921"
            ]
           ],
           "sequentialminus": [
            [
             0,
             "#0d0887"
            ],
            [
             0.1111111111111111,
             "#46039f"
            ],
            [
             0.2222222222222222,
             "#7201a8"
            ],
            [
             0.3333333333333333,
             "#9c179e"
            ],
            [
             0.4444444444444444,
             "#bd3786"
            ],
            [
             0.5555555555555556,
             "#d8576b"
            ],
            [
             0.6666666666666666,
             "#ed7953"
            ],
            [
             0.7777777777777778,
             "#fb9f3a"
            ],
            [
             0.8888888888888888,
             "#fdca26"
            ],
            [
             1,
             "#f0f921"
            ]
           ]
          },
          "colorway": [
           "#636efa",
           "#EF553B",
           "#00cc96",
           "#ab63fa",
           "#FFA15A",
           "#19d3f3",
           "#FF6692",
           "#B6E880",
           "#FF97FF",
           "#FECB52"
          ],
          "font": {
           "color": "#2a3f5f"
          },
          "geo": {
           "bgcolor": "white",
           "lakecolor": "white",
           "landcolor": "#E5ECF6",
           "showlakes": true,
           "showland": true,
           "subunitcolor": "white"
          },
          "hoverlabel": {
           "align": "left"
          },
          "hovermode": "closest",
          "mapbox": {
           "style": "light"
          },
          "paper_bgcolor": "white",
          "plot_bgcolor": "#E5ECF6",
          "polar": {
           "angularaxis": {
            "gridcolor": "white",
            "linecolor": "white",
            "ticks": ""
           },
           "bgcolor": "#E5ECF6",
           "radialaxis": {
            "gridcolor": "white",
            "linecolor": "white",
            "ticks": ""
           }
          },
          "scene": {
           "xaxis": {
            "backgroundcolor": "#E5ECF6",
            "gridcolor": "white",
            "gridwidth": 2,
            "linecolor": "white",
            "showbackground": true,
            "ticks": "",
            "zerolinecolor": "white"
           },
           "yaxis": {
            "backgroundcolor": "#E5ECF6",
            "gridcolor": "white",
            "gridwidth": 2,
            "linecolor": "white",
            "showbackground": true,
            "ticks": "",
            "zerolinecolor": "white"
           },
           "zaxis": {
            "backgroundcolor": "#E5ECF6",
            "gridcolor": "white",
            "gridwidth": 2,
            "linecolor": "white",
            "showbackground": true,
            "ticks": "",
            "zerolinecolor": "white"
           }
          },
          "shapedefaults": {
           "line": {
            "color": "#2a3f5f"
           }
          },
          "ternary": {
           "aaxis": {
            "gridcolor": "white",
            "linecolor": "white",
            "ticks": ""
           },
           "baxis": {
            "gridcolor": "white",
            "linecolor": "white",
            "ticks": ""
           },
           "bgcolor": "#E5ECF6",
           "caxis": {
            "gridcolor": "white",
            "linecolor": "white",
            "ticks": ""
           }
          },
          "title": {
           "x": 0.05
          },
          "xaxis": {
           "automargin": true,
           "gridcolor": "white",
           "linecolor": "white",
           "ticks": "",
           "title": {
            "standoff": 15
           },
           "zerolinecolor": "white",
           "zerolinewidth": 2
          },
          "yaxis": {
           "automargin": true,
           "gridcolor": "white",
           "linecolor": "white",
           "ticks": "",
           "title": {
            "standoff": 15
           },
           "zerolinecolor": "white",
           "zerolinewidth": 2
          }
         }
        },
        "title": {
         "text": "Clicks by Device"
        },
        "uniformtext": {
         "minsize": 12,
         "mode": "hide"
        }
       }
      },
      "image/png": "[encoded data removed]"
     },
     "metadata": {},
     "output_type": "display_data"
    },
    {
     "name": "stdout",
     "output_type": "stream",
     "text": [
      "Saved to Output\\12_GSC_Clicks_By_Device.png\n"
     ]
    }
   ],
   "source": [
    "def plot_clicks_by_device(output_folder=\".\", save_charts=False):\n",
    "\n",
    "    # Process\n",
    "    fig = px.pie(\n",
    "        df_devices,\n",
    "        names=\"Device\",\n",
    "        values=\"Clicks\",\n",
    "        title=\"Clicks by Device\",\n",
    "        hole=0,  \n",
    "    )\n",
    "    \n",
    "    fig.update_traces(\n",
    "        textinfo='value',  \n",
    "        textposition='inside',\n",
    "        pull=[0.05]*len(df_devices),  \n",
    "        insidetextorientation='auto',\n",
    "        showlegend=True\n",
    "    )\n",
    "\n",
    "    fig.update_layout(\n",
    "        uniformtext_minsize=12,\n",
    "        uniformtext_mode='hide',\n",
    "        legend_title_text=\"Device\",\n",
    "    )\n",
    "    \n",
    "    # Print Results\n",
    "    fig.show()\n",
    "\n",
    "    # Save Chart\n",
    "    if save_charts:\n",
    "        os.makedirs(output_folder, exist_ok=True)\n",
    "        file_path = os.path.join(output_folder, \"12_GSC_Clicks_By_Device.png\")\n",
    "        fig.write_image(file_path)\n",
    "        print(f\"Saved to {file_path}\")\n",
    "\n",
    "plot_clicks_by_device(output_folder=\"Output\", save_charts=True)"
   ]
  },
  {
   "cell_type": "markdown",
   "id": "50f3bc51-48c8-4aa2-af24-1259d308095a",
   "metadata": {},
   "source": [
    "## Process 1D (Output 2) Pie Chart for Impressions by Device Type"
   ]
  },
  {
   "cell_type": "code",
   "execution_count": 31,
   "id": "e3e00f54-deec-444c-9146-6720428a9898",
   "metadata": {},
   "outputs": [
    {
     "data": {
      "application/vnd.plotly.v1+json": {
       "config": {
        "plotlyServerURL": "https://plot.ly"
       },
       "data": [
        {
         "domain": {
          "x": [
           0,
           1
          ],
          "y": [
           0,
           1
          ]
         },
         "hole": 0,
         "hovertemplate": "Device=%{label}<br>Impressions=%{value}<extra></extra>",
         "insidetextorientation": "auto",
         "labels": [
          "Desktop",
          "Mobile",
          "Tablet"
         ],
         "legendgroup": "",
         "name": "",
         "pull": [
          0.05,
          0.05,
          0.05
         ],
         "showlegend": true,
         "textinfo": "value",
         "textposition": "inside",
         "type": "pie",
         "values": {
          "_inputArray": {
           "0": 6046,
           "1": 2889,
           "2": 10,
           "bdata": "nhdJCwoA",
           "dtype": "i2",
           "shape": "3"
          },
          "bdata": "nhdJCwoA",
          "dtype": "i2"
         }
        }
       ],
       "layout": {
        "autosize": true,
        "legend": {
         "title": {
          "text": "Device"
         },
         "tracegroupgap": 0
        },
        "template": {
         "data": {
          "bar": [
           {
            "error_x": {
             "color": "#2a3f5f"
            },
            "error_y": {
             "color": "#2a3f5f"
            },
            "marker": {
             "line": {
              "color": "#E5ECF6",
              "width": 0.5
             },
             "pattern": {
              "fillmode": "overlay",
              "size": 10,
              "solidity": 0.2
             }
            },
            "type": "bar"
           }
          ],
          "barpolar": [
           {
            "marker": {
             "line": {
              "color": "#E5ECF6",
              "width": 0.5
             },
             "pattern": {
              "fillmode": "overlay",
              "size": 10,
              "solidity": 0.2
             }
            },
            "type": "barpolar"
           }
          ],
          "carpet": [
           {
            "aaxis": {
             "endlinecolor": "#2a3f5f",
             "gridcolor": "white",
             "linecolor": "white",
             "minorgridcolor": "white",
             "startlinecolor": "#2a3f5f"
            },
            "baxis": {
             "endlinecolor": "#2a3f5f",
             "gridcolor": "white",
             "linecolor": "white",
             "minorgridcolor": "white",
             "startlinecolor": "#2a3f5f"
            },
            "type": "carpet"
           }
          ],
          "choropleth": [
           {
            "colorbar": {
             "outlinewidth": 0,
             "ticks": ""
            },
            "type": "choropleth"
           }
          ],
          "contour": [
           {
            "colorbar": {
             "outlinewidth": 0,
             "ticks": ""
            },
            "colorscale": [
             [
              0,
              "#0d0887"
             ],
             [
              0.1111111111111111,
              "#46039f"
             ],
             [
              0.2222222222222222,
              "#7201a8"
             ],
             [
              0.3333333333333333,
              "#9c179e"
             ],
             [
              0.4444444444444444,
              "#bd3786"
             ],
             [
              0.5555555555555556,
              "#d8576b"
             ],
             [
              0.6666666666666666,
              "#ed7953"
             ],
             [
              0.7777777777777778,
              "#fb9f3a"
             ],
             [
              0.8888888888888888,
              "#fdca26"
             ],
             [
              1,
              "#f0f921"
             ]
            ],
            "type": "contour"
           }
          ],
          "contourcarpet": [
           {
            "colorbar": {
             "outlinewidth": 0,
             "ticks": ""
            },
            "type": "contourcarpet"
           }
          ],
          "heatmap": [
           {
            "colorbar": {
             "outlinewidth": 0,
             "ticks": ""
            },
            "colorscale": [
             [
              0,
              "#0d0887"
             ],
             [
              0.1111111111111111,
              "#46039f"
             ],
             [
              0.2222222222222222,
              "#7201a8"
             ],
             [
              0.3333333333333333,
              "#9c179e"
             ],
             [
              0.4444444444444444,
              "#bd3786"
             ],
             [
              0.5555555555555556,
              "#d8576b"
             ],
             [
              0.6666666666666666,
              "#ed7953"
             ],
             [
              0.7777777777777778,
              "#fb9f3a"
             ],
             [
              0.8888888888888888,
              "#fdca26"
             ],
             [
              1,
              "#f0f921"
             ]
            ],
            "type": "heatmap"
           }
          ],
          "histogram": [
           {
            "marker": {
             "pattern": {
              "fillmode": "overlay",
              "size": 10,
              "solidity": 0.2
             }
            },
            "type": "histogram"
           }
          ],
          "histogram2d": [
           {
            "colorbar": {
             "outlinewidth": 0,
             "ticks": ""
            },
            "colorscale": [
             [
              0,
              "#0d0887"
             ],
             [
              0.1111111111111111,
              "#46039f"
             ],
             [
              0.2222222222222222,
              "#7201a8"
             ],
             [
              0.3333333333333333,
              "#9c179e"
             ],
             [
              0.4444444444444444,
              "#bd3786"
             ],
             [
              0.5555555555555556,
              "#d8576b"
             ],
             [
              0.6666666666666666,
              "#ed7953"
             ],
             [
              0.7777777777777778,
              "#fb9f3a"
             ],
             [
              0.8888888888888888,
              "#fdca26"
             ],
             [
              1,
              "#f0f921"
             ]
            ],
            "type": "histogram2d"
           }
          ],
          "histogram2dcontour": [
           {
            "colorbar": {
             "outlinewidth": 0,
             "ticks": ""
            },
            "colorscale": [
             [
              0,
              "#0d0887"
             ],
             [
              0.1111111111111111,
              "#46039f"
             ],
             [
              0.2222222222222222,
              "#7201a8"
             ],
             [
              0.3333333333333333,
              "#9c179e"
             ],
             [
              0.4444444444444444,
              "#bd3786"
             ],
             [
              0.5555555555555556,
              "#d8576b"
             ],
             [
              0.6666666666666666,
              "#ed7953"
             ],
             [
              0.7777777777777778,
              "#fb9f3a"
             ],
             [
              0.8888888888888888,
              "#fdca26"
             ],
             [
              1,
              "#f0f921"
             ]
            ],
            "type": "histogram2dcontour"
           }
          ],
          "mesh3d": [
           {
            "colorbar": {
             "outlinewidth": 0,
             "ticks": ""
            },
            "type": "mesh3d"
           }
          ],
          "parcoords": [
           {
            "line": {
             "colorbar": {
              "outlinewidth": 0,
              "ticks": ""
             }
            },
            "type": "parcoords"
           }
          ],
          "pie": [
           {
            "automargin": true,
            "type": "pie"
           }
          ],
          "scatter": [
           {
            "fillpattern": {
             "fillmode": "overlay",
             "size": 10,
             "solidity": 0.2
            },
            "type": "scatter"
           }
          ],
          "scatter3d": [
           {
            "line": {
             "colorbar": {
              "outlinewidth": 0,
              "ticks": ""
             }
            },
            "marker": {
             "colorbar": {
              "outlinewidth": 0,
              "ticks": ""
             }
            },
            "type": "scatter3d"
           }
          ],
          "scattercarpet": [
           {
            "marker": {
             "colorbar": {
              "outlinewidth": 0,
              "ticks": ""
             }
            },
            "type": "scattercarpet"
           }
          ],
          "scattergeo": [
           {
            "marker": {
             "colorbar": {
              "outlinewidth": 0,
              "ticks": ""
             }
            },
            "type": "scattergeo"
           }
          ],
          "scattergl": [
           {
            "marker": {
             "colorbar": {
              "outlinewidth": 0,
              "ticks": ""
             }
            },
            "type": "scattergl"
           }
          ],
          "scattermap": [
           {
            "marker": {
             "colorbar": {
              "outlinewidth": 0,
              "ticks": ""
             }
            },
            "type": "scattermap"
           }
          ],
          "scattermapbox": [
           {
            "marker": {
             "colorbar": {
              "outlinewidth": 0,
              "ticks": ""
             }
            },
            "type": "scattermapbox"
           }
          ],
          "scatterpolar": [
           {
            "marker": {
             "colorbar": {
              "outlinewidth": 0,
              "ticks": ""
             }
            },
            "type": "scatterpolar"
           }
          ],
          "scatterpolargl": [
           {
            "marker": {
             "colorbar": {
              "outlinewidth": 0,
              "ticks": ""
             }
            },
            "type": "scatterpolargl"
           }
          ],
          "scatterternary": [
           {
            "marker": {
             "colorbar": {
              "outlinewidth": 0,
              "ticks": ""
             }
            },
            "type": "scatterternary"
           }
          ],
          "surface": [
           {
            "colorbar": {
             "outlinewidth": 0,
             "ticks": ""
            },
            "colorscale": [
             [
              0,
              "#0d0887"
             ],
             [
              0.1111111111111111,
              "#46039f"
             ],
             [
              0.2222222222222222,
              "#7201a8"
             ],
             [
              0.3333333333333333,
              "#9c179e"
             ],
             [
              0.4444444444444444,
              "#bd3786"
             ],
             [
              0.5555555555555556,
              "#d8576b"
             ],
             [
              0.6666666666666666,
              "#ed7953"
             ],
             [
              0.7777777777777778,
              "#fb9f3a"
             ],
             [
              0.8888888888888888,
              "#fdca26"
             ],
             [
              1,
              "#f0f921"
             ]
            ],
            "type": "surface"
           }
          ],
          "table": [
           {
            "cells": {
             "fill": {
              "color": "#EBF0F8"
             },
             "line": {
              "color": "white"
             }
            },
            "header": {
             "fill": {
              "color": "#C8D4E3"
             },
             "line": {
              "color": "white"
             }
            },
            "type": "table"
           }
          ]
         },
         "layout": {
          "annotationdefaults": {
           "arrowcolor": "#2a3f5f",
           "arrowhead": 0,
           "arrowwidth": 1
          },
          "autotypenumbers": "strict",
          "coloraxis": {
           "colorbar": {
            "outlinewidth": 0,
            "ticks": ""
           }
          },
          "colorscale": {
           "diverging": [
            [
             0,
             "#8e0152"
            ],
            [
             0.1,
             "#c51b7d"
            ],
            [
             0.2,
             "#de77ae"
            ],
            [
             0.3,
             "#f1b6da"
            ],
            [
             0.4,
             "#fde0ef"
            ],
            [
             0.5,
             "#f7f7f7"
            ],
            [
             0.6,
             "#e6f5d0"
            ],
            [
             0.7,
             "#b8e186"
            ],
            [
             0.8,
             "#7fbc41"
            ],
            [
             0.9,
             "#4d9221"
            ],
            [
             1,
             "#276419"
            ]
           ],
           "sequential": [
            [
             0,
             "#0d0887"
            ],
            [
             0.1111111111111111,
             "#46039f"
            ],
            [
             0.2222222222222222,
             "#7201a8"
            ],
            [
             0.3333333333333333,
             "#9c179e"
            ],
            [
             0.4444444444444444,
             "#bd3786"
            ],
            [
             0.5555555555555556,
             "#d8576b"
            ],
            [
             0.6666666666666666,
             "#ed7953"
            ],
            [
             0.7777777777777778,
             "#fb9f3a"
            ],
            [
             0.8888888888888888,
             "#fdca26"
            ],
            [
             1,
             "#f0f921"
            ]
           ],
           "sequentialminus": [
            [
             0,
             "#0d0887"
            ],
            [
             0.1111111111111111,
             "#46039f"
            ],
            [
             0.2222222222222222,
             "#7201a8"
            ],
            [
             0.3333333333333333,
             "#9c179e"
            ],
            [
             0.4444444444444444,
             "#bd3786"
            ],
            [
             0.5555555555555556,
             "#d8576b"
            ],
            [
             0.6666666666666666,
             "#ed7953"
            ],
            [
             0.7777777777777778,
             "#fb9f3a"
            ],
            [
             0.8888888888888888,
             "#fdca26"
            ],
            [
             1,
             "#f0f921"
            ]
           ]
          },
          "colorway": [
           "#636efa",
           "#EF553B",
           "#00cc96",
           "#ab63fa",
           "#FFA15A",
           "#19d3f3",
           "#FF6692",
           "#B6E880",
           "#FF97FF",
           "#FECB52"
          ],
          "font": {
           "color": "#2a3f5f"
          },
          "geo": {
           "bgcolor": "white",
           "lakecolor": "white",
           "landcolor": "#E5ECF6",
           "showlakes": true,
           "showland": true,
           "subunitcolor": "white"
          },
          "hoverlabel": {
           "align": "left"
          },
          "hovermode": "closest",
          "mapbox": {
           "style": "light"
          },
          "paper_bgcolor": "white",
          "plot_bgcolor": "#E5ECF6",
          "polar": {
           "angularaxis": {
            "gridcolor": "white",
            "linecolor": "white",
            "ticks": ""
           },
           "bgcolor": "#E5ECF6",
           "radialaxis": {
            "gridcolor": "white",
            "linecolor": "white",
            "ticks": ""
           }
          },
          "scene": {
           "xaxis": {
            "backgroundcolor": "#E5ECF6",
            "gridcolor": "white",
            "gridwidth": 2,
            "linecolor": "white",
            "showbackground": true,
            "ticks": "",
            "zerolinecolor": "white"
           },
           "yaxis": {
            "backgroundcolor": "#E5ECF6",
            "gridcolor": "white",
            "gridwidth": 2,
            "linecolor": "white",
            "showbackground": true,
            "ticks": "",
            "zerolinecolor": "white"
           },
           "zaxis": {
            "backgroundcolor": "#E5ECF6",
            "gridcolor": "white",
            "gridwidth": 2,
            "linecolor": "white",
            "showbackground": true,
            "ticks": "",
            "zerolinecolor": "white"
           }
          },
          "shapedefaults": {
           "line": {
            "color": "#2a3f5f"
           }
          },
          "ternary": {
           "aaxis": {
            "gridcolor": "white",
            "linecolor": "white",
            "ticks": ""
           },
           "baxis": {
            "gridcolor": "white",
            "linecolor": "white",
            "ticks": ""
           },
           "bgcolor": "#E5ECF6",
           "caxis": {
            "gridcolor": "white",
            "linecolor": "white",
            "ticks": ""
           }
          },
          "title": {
           "x": 0.05
          },
          "xaxis": {
           "automargin": true,
           "gridcolor": "white",
           "linecolor": "white",
           "ticks": "",
           "title": {
            "standoff": 15
           },
           "zerolinecolor": "white",
           "zerolinewidth": 2
          },
          "yaxis": {
           "automargin": true,
           "gridcolor": "white",
           "linecolor": "white",
           "ticks": "",
           "title": {
            "standoff": 15
           },
           "zerolinecolor": "white",
           "zerolinewidth": 2
          }
         }
        },
        "title": {
         "text": "Impressions by Device"
        },
        "uniformtext": {
         "minsize": 12,
         "mode": "hide"
        }
       }
      },
      "image/png": "[encoded data removed]"
     },
     "metadata": {},
     "output_type": "display_data"
    },
    {
     "name": "stdout",
     "output_type": "stream",
     "text": [
      "Saved to Output\\13_GSC_Impressions_By_Device.png\n"
     ]
    }
   ],
   "source": [
    "def plot_impressions_by_device(output_folder=\".\", save_charts=False):\n",
    "\n",
    "    # Process\n",
    "    fig = px.pie(\n",
    "        df_devices,\n",
    "        names=\"Device\",\n",
    "        values=\"Impressions\",\n",
    "        title=\"Impressions by Device\",\n",
    "        hole=0, \n",
    "    )\n",
    "    \n",
    "    fig.update_traces(\n",
    "        textinfo='value',  \n",
    "        textposition='inside',\n",
    "        pull=[0.05]*len(df_devices),  \n",
    "        insidetextorientation='auto',\n",
    "        showlegend=True\n",
    "    )\n",
    "\n",
    "    fig.update_layout(\n",
    "        uniformtext_minsize=12,\n",
    "        uniformtext_mode='hide',\n",
    "        legend_title_text=\"Device\",\n",
    "    )\n",
    "\n",
    "    # Print Results\n",
    "    fig.show()\n",
    "\n",
    "    # Save Chart\n",
    "    if save_charts:\n",
    "        os.makedirs(output_folder, exist_ok=True)\n",
    "        file_path = os.path.join(output_folder, \"13_GSC_Impressions_By_Device.png\")\n",
    "        fig.write_image(file_path)\n",
    "        print(f\"Saved to {file_path}\")\n",
    "\n",
    "plot_impressions_by_device(output_folder=\"Output\", save_charts=True)"
   ]
  },
  {
   "cell_type": "code",
   "execution_count": null,
   "id": "8ad5f276-cf90-41f2-a38b-59a4b9040f52",
   "metadata": {},
   "outputs": [],
   "source": []
  }
 ],
 "metadata": {
  "kernelspec": {
   "display_name": "Python 3 (ipykernel)",
   "language": "python",
   "name": "python3"
  },
  "language_info": {
   "codemirror_mode": {
    "name": "ipython",
    "version": 3
   },
   "file_extension": ".py",
   "mimetype": "text/x-python",
   "name": "python",
   "nbconvert_exporter": "python",
   "pygments_lexer": "ipython3",
   "version": "3.13.0"
  }
 },
 "nbformat": 4,
 "nbformat_minor": 5
}
