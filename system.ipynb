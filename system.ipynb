{
 "cells": [
  {
   "cell_type": "code",
   "execution_count": 38,
   "id": "39a94fa3-f012-41d7-b713-affa4e2c640d",
   "metadata": {},
   "outputs": [],
   "source": [
    "# Author: Sam Joshua Caballero\n",
    "# First Published: 2025-06-13\n",
    "# Last Update: N/A\n",
    "# Description: This notebook automates the calculations done to generate SEO website performance reports.\n",
    "# Documentation: TBA"
   ]
  },
  {
   "cell_type": "code",
   "execution_count": 39,
   "id": "e158df26-e21d-4d3a-bcdd-d2f1218f59ba",
   "metadata": {},
   "outputs": [],
   "source": [
    "import pandas as pd\n",
    "import os\n",
    "import plotly.express as px\n",
    "from pptx import Presentation\n",
    "from pptx.util import Inches, Pt\n",
    "from pptx.dml.color import RGBColor\n",
    "from pptx.enum.shapes import MSO_SHAPE, MSO_SHAPE_TYPE\n",
    "from pptx.enum.text import PP_ALIGN"
   ]
  },
  {
   "cell_type": "markdown",
   "id": "9d1cc846-d6df-4e9d-9eb2-c82254612b80",
   "metadata": {},
   "source": [
    "## User Inputs"
   ]
  },
  {
   "cell_type": "code",
   "execution_count": 40,
   "id": "90a6781f-89a6-4c1e-946d-6d1101a93ee3",
   "metadata": {},
   "outputs": [],
   "source": [
    "# Process Variables\n",
    "month = \"June\"\n",
    "year = \"2025\"\n",
    "gsc_file_queries = \"GSC Input/queries.csv\"\n",
    "gsc_file_pages = \"GSC Input/pages.csv\"\n",
    "gsc_file_countries = \"GSC Input/countries.csv\"\n",
    "gsc_file_devices = \"GSC Input/devices.csv\"\n",
    "ahrefs_keywords = \"AHREFS Input/Ah_organic_keywords.csv\"\n",
    "ahrefs_pages = \"AHREFS Input/Ah_top_pages.csv\"\n",
    "save_csv_files = True\n",
    "save_charts = True\n",
    "output_folder = \"Output\"\n",
    "\n",
    "# Process 1 A Configurations\n",
    "top_ten = True\n",
    "top_twenty = False\n",
    "top_one_hundred = False\n",
    "queries_with_most_clicks = 10 # options: 5, 10, 15, and 20\n",
    "queries_with_most_impressions = 15 # options: 10, 15, 20\n",
    "\n",
    "# Process 1/2 B Configurations \n",
    "top_5_best_performing_pages = True\n",
    "top_5_worst_performing_pages = True"
   ]
  },
  {
   "cell_type": "code",
   "execution_count": 41,
   "id": "b410213d-0138-4f6c-a8fd-6b099100fd0b",
   "metadata": {},
   "outputs": [],
   "source": [
    "# Powerpoint Variables\n",
    "powerpoint_template = \"PPT Input/Performance Report Template.pptx\"\n",
    "\n",
    "# Powerpoint Configurations\n",
    "ppt_background_color = \"B22222\" # MM: 01796F\n",
    "ppt_website = \"Merry Mount\""
   ]
  },
  {
   "cell_type": "markdown",
   "id": "9454e7f1-405f-42da-92d8-1deff9372aa6",
   "metadata": {},
   "source": [
    "## Main Process"
   ]
  },
  {
   "cell_type": "code",
   "execution_count": 42,
   "id": "dfe04aff-451b-443f-ab6a-22d03fb29d72",
   "metadata": {},
   "outputs": [
    {
     "name": "stdout",
     "output_type": "stream",
     "text": [
      "\n",
      "SEO REPORT\n",
      "\n",
      "Website\n",
      "Month 2025\n"
     ]
    }
   ],
   "source": [
    "# === Main Process ===\n",
    "try:\n",
    "    df_queries = pd.read_csv(gsc_file_queries)\n",
    "    df_pages = pd.read_csv(gsc_file_pages)\n",
    "    df_countries = pd.read_csv(gsc_file_countries)\n",
    "    df_devices = pd.read_csv(gsc_file_devices)\n",
    "    ah_keywords = pd.read_csv(ahrefs_keywords)\n",
    "    ah_pages = pd.read_csv(ahrefs_pages)\n",
    "except FileNotFoundError:\n",
    "    print(f\"Error: File/s not found. Please check the file name or path.\")\n",
    "    exit()\n",
    "except Exception as e:\n",
    "    print(f\"Error reading file: {e}\")\n",
    "    exit()\n",
    "\n",
    "try:\n",
    "    ppt = Presentation(powerpoint_template)\n",
    "except PackageNotFoundError:\n",
    "    print(\"Error: The file was not found or is not a valid .pptx file.\")\n",
    "except Exception as e:\n",
    "    print(f\"Unexpected error: {e}\")\n",
    "\n",
    "# === Process Powerpoint ===\n",
    "slide1 = ppt.slides[0]\n",
    "for shape in slide1.shapes:\n",
    "    if shape.has_text_frame:\n",
    "        print(shape.text)\n",
    "        text_frame = shape.text_frame\n",
    "        if \"Website\" in shape.text:\n",
    "            shape.text = ppt_website\n",
    "            text_frame.paragraphs[0].alignment = PP_ALIGN.CENTER\n",
    "            run = text_frame.paragraphs[0].runs[0]\n",
    "            run.font.color.rgb = RGBColor(255,255,255)\n",
    "            \n",
    "\n",
    "        if \"Month\" in shape.text:\n",
    "            shape.text = month + \" \" + year\n",
    "            text_frame.paragraphs[0].alignment = PP_ALIGN.CENTER\n",
    "            run = text_frame.paragraphs[0].runs[0]\n",
    "            run.font.color.rgb = RGBColor(255,255,255)"
   ]
  },
  {
   "cell_type": "markdown",
   "id": "be2d3e1d-a9b7-4e9f-86b0-cc0401f151d9",
   "metadata": {},
   "source": [
    "## Process 1: Google Search Console"
   ]
  },
  {
   "cell_type": "markdown",
   "id": "3ce762da-95b2-42c0-993e-3fd549940841",
   "metadata": {},
   "source": [
    "### Process 1A (Output 1): Total Number of Queries"
   ]
  },
  {
   "cell_type": "code",
   "execution_count": 43,
   "id": "5f0f08e4-cfaf-4887-9278-4d8c54489e70",
   "metadata": {},
   "outputs": [
    {
     "name": "stdout",
     "output_type": "stream",
     "text": [
      "Total Number of Queries: 56\n",
      "Saved to Output/1_GSC_Total_Queries.txt\n"
     ]
    }
   ],
   "source": [
    "# Process\n",
    "total_number_of_queries = df_queries.shape[0]\n",
    "\n",
    "# Print Results\n",
    "print(f\"Total Number of Queries: {total_number_of_queries}\")\n",
    "\n",
    "# Save to TXT\n",
    "if save_csv_files:\n",
    "    os.makedirs(output_folder, exist_ok=True)\n",
    "    with open(f'{output_folder}/1_GSC_Total_Queries.txt', 'w') as f:\n",
    "        f.write(f\"Total Number of Queries: {total_number_of_queries}\\n\")\n",
    "    print(f\"Saved to {output_folder}/1_GSC_Total_Queries.txt\")"
   ]
  },
  {
   "cell_type": "markdown",
   "id": "319cf6a9-0b52-4d3e-96a9-25b9795126ca",
   "metadata": {},
   "source": [
    "### Process 1A (Outputs 2-4): Queries with average position 1-10, 11-20, and 21-100"
   ]
  },
  {
   "cell_type": "code",
   "execution_count": 44,
   "id": "f482f4eb-7c5c-4714-b368-0d02d69f0c0f",
   "metadata": {},
   "outputs": [
    {
     "name": "stdout",
     "output_type": "stream",
     "text": [
      "\n",
      "Queries/Keywords with Position Range: Top 1 To 10\n",
      "1\n",
      "\n",
      "Queries/Keywords with Position Range: Pos 11 To 20\n",
      "5\n",
      "\n",
      "Queries/Keywords with Position Range: Pos 21 To 100\n",
      "49\n",
      "Saved to Output/2_GSC_Rank_1_to_10_Queries.csv\n",
      "Saved to Output/3_GSC_Rank_11_to_20_Queries.csv\n",
      "Saved to Output/4_GSC_Rank_21_to_100_Queries.csv\n"
     ]
    }
   ],
   "source": [
    "# Process\n",
    "def categorize_by_position(df_queries, top_ten=False, top_twenty=False, top_one_hundred=False):\n",
    "    result = {}\n",
    "\n",
    "    if top_ten:\n",
    "        result['top_1_to_10'] = df_queries[(df_queries['Position'] >= 1) & (df_queries['Position'] <= 10)]\n",
    "\n",
    "    if top_twenty:\n",
    "        result['pos_11_to_20'] = df_queries[(df_queries['Position'] > 10) & (df_queries['Position'] <= 20)]\n",
    "\n",
    "    if top_one_hundred:\n",
    "        result['pos_21_to_100'] = df_queries[(df_queries['Position'] > 20) & (df_queries['Position'] <= 100)]\n",
    "\n",
    "    return result\n",
    "    \n",
    "categories = categorize_by_position(df_queries, top_ten=True, top_twenty=True, top_one_hundred=True)\n",
    "\n",
    "# Print Results\n",
    "for label, data in categories.items():\n",
    "    print(f\"\\nQueries/Keywords with Position Range: {label.replace('_', ' ').title()}\")\n",
    "    print(data.shape[0])\n",
    "\n",
    "# Save to CSV\n",
    "if save_csv_files:\n",
    "    os.makedirs(output_folder, exist_ok=True) \n",
    "    categories['top_1_to_10'].to_csv(f'{output_folder}/2_GSC_Rank_1_to_10_Queries.csv', index=False)\n",
    "    print(f\"Saved to {output_folder}/2_GSC_Rank_1_to_10_Queries.csv\")\n",
    "    categories['pos_11_to_20'].to_csv(f'{output_folder}/3_GSC_Rank_11_to_20_Queries.csv', index=False)\n",
    "    print(f\"Saved to {output_folder}/3_GSC_Rank_11_to_20_Queries.csv\")\n",
    "    categories['pos_21_to_100'].to_csv(f'{output_folder}/4_GSC_Rank_21_to_100_Queries.csv', index=False)\n",
    "    print(f\"Saved to {output_folder}/4_GSC_Rank_21_to_100_Queries.csv\")\n",
    "\n",
    "# Process Powerpoint\n",
    "slide4 = ppt.slides[3]\n",
    "for shape in slide4.shapes:\n",
    "    if not shape.has_text_frame:\n",
    "        continue\n",
    "    for paragraph in shape.text_frame.paragraphs:\n",
    "        for run in paragraph.runs:\n",
    "            text = run.text\n",
    "            text = text.replace(\"Website\", ppt_website)\n",
    "            text = text.replace(\"x_queries\", str(total_number_of_queries))\n",
    "            text = text.replace(\"y_queries_top_10\", str(categories['top_1_to_10'].shape[0]))\n",
    "            text = text.replace(\"ztop20\", str(categories['pos_11_to_20'].shape[0]))\n",
    "            text = text.replace(\"Ztop100\", str(categories['pos_21_to_100'].shape[0]))\n",
    "            run.text = text"
   ]
  },
  {
   "cell_type": "markdown",
   "id": "4d0385fd-868d-4853-9704-c1e725222c78",
   "metadata": {},
   "source": [
    "### Process 1A (Outputs 5): Top x queries with the most clicks"
   ]
  },
  {
   "cell_type": "code",
   "execution_count": 45,
   "id": "efebd034-2237-4850-8d74-f1826f4ffcf1",
   "metadata": {},
   "outputs": [
    {
     "name": "stdout",
     "output_type": "stream",
     "text": [
      "\n",
      "Top 10 Queries with the Most Clicks:\n",
      "   Rank                                Top queries  Impressions  Clicks CTR  \\\n",
      "0     1                  best christmas tree stand          390       0  0%   \n",
      "1     2                 best christmas tree stands          256       0  0%   \n",
      "2     3                       best xmas tree stand           94       0  0%   \n",
      "3     4                         christmas tree mat           79       0  0%   \n",
      "4     5           best rated christmas tree stands           74       0  0%   \n",
      "5     6                  top christmas tree stands           71       0  0%   \n",
      "6     7  christmas tree stand with water reservoir           68       0  0%   \n",
      "7     8            top rated christmas tree stands           63       0  0%   \n",
      "8     9                       best real tree stand           63       0  0%   \n",
      "9    10         best christmas tree stands reviews           62       0  0%   \n",
      "\n",
      "   Position  \n",
      "0     48.75  \n",
      "1     48.91  \n",
      "2     49.06  \n",
      "3     26.67  \n",
      "4     55.45  \n",
      "5     28.10  \n",
      "6     27.51  \n",
      "7     22.05  \n",
      "8     69.44  \n",
      "9     24.18  \n",
      "Saved to Output/5_GSC_Top_10_Queries_By_Clicks.csv\n"
     ]
    }
   ],
   "source": [
    "# Process\n",
    "def get_top_queries_by_clicks(df_queries, queries_with_most_clicks=10):\n",
    "    top_clicks_df = df_queries.sort_values(by='Clicks', ascending=False).head(queries_with_most_clicks)\n",
    "    return top_clicks_df\n",
    "\n",
    "top_clicks = get_top_queries_by_clicks(df_queries, queries_with_most_clicks)\n",
    "top_clicks = top_clicks.reset_index(drop=True)\n",
    "top_clicks.insert(0, 'Rank', top_clicks.index + 1)\n",
    "\n",
    "# Print Results\n",
    "print(f\"\\nTop {queries_with_most_clicks} Queries with the Most Clicks:\")\n",
    "print(top_clicks[['Rank', 'Top queries', 'Impressions', 'Clicks', 'CTR', 'Position']])\n",
    "\n",
    "# Save to CSV\n",
    "if save_csv_files:\n",
    "    os.makedirs(output_folder, exist_ok=True) \n",
    "    top_clicks.to_csv(f'{output_folder}/5_GSC_Top_{queries_with_most_clicks}_Queries_By_Clicks.csv', index=False)\n",
    "    print(f\"Saved to {output_folder}/5_GSC_Top_{queries_with_most_clicks}_Queries_By_Clicks.csv\")\n",
    "\n",
    "# Process Powerpoint\n",
    "slide5 = ppt.slides[4]\n",
    "for shape in slide5.shapes:\n",
    "    if not shape.has_text_frame:\n",
    "        continue\n",
    "    for paragraph in shape.text_frame.paragraphs:\n",
    "        for run in paragraph.runs:\n",
    "            if \"Website\" in run.text:\n",
    "                text = run.text\n",
    "                text = text.replace(\"Website\", ppt_website)\n",
    "                run.text = text\n",
    "                \n",
    "left = Inches(0.5)\n",
    "top = Inches(1.5)\n",
    "rows = top_clicks.shape[0] + 1\n",
    "cols = 6\n",
    "for shape in list(slide5.shapes):\n",
    "    if shape.shape_type == 19:  # 19 is for table shapes\n",
    "        slide5.shapes._spTree.remove(shape._element)\n",
    "table_shape = slide5.shapes.add_table(rows,cols,left,top,Inches(9),Inches(0.8+0.3*rows))\n",
    "table = table_shape.table\n",
    "column_widths = {\n",
    "    0: 1026000,  # Rank – 2.85 cm\n",
    "    1: 2520000,  # Top queries – 7 cm\n",
    "    2: 1026000,  # Impressions\n",
    "    3: 1026000,  # Clicks\n",
    "    4: 1026000,  # CTR\n",
    "    5: 1026000,  # Position\n",
    "}\n",
    "for col_idx, width in column_widths.items():\n",
    "    table.columns[col_idx].width = width\n",
    "headers = [\"Rank\", \"Top queries\", \"Impressions\", \"Clicks\", \"CTR\", \"Position\"]\n",
    "for col_idx, header in enumerate(headers):\n",
    "    cell = table.cell(0, col_idx)\n",
    "    cell.text = header\n",
    "    for paragraph in cell.text_frame.paragraphs:\n",
    "        for run in paragraph.runs:\n",
    "            run.font.bold = True\n",
    "            run.font.size = Pt(10)\n",
    "for row_idx, row_data in top_clicks.iterrows():\n",
    "    for col_idx, col_name in enumerate(headers):\n",
    "        cell = table.cell(row_idx + 1, col_idx)\n",
    "        cell.text = str(row_data[col_name])\n",
    "        for paragraph in cell.text_frame.paragraphs:\n",
    "            for run in paragraph.runs:\n",
    "                run.font.size = Pt(10)"
   ]
  },
  {
   "cell_type": "markdown",
   "id": "15ba29d0-2dd6-4677-b915-f1667f55bfbd",
   "metadata": {},
   "source": [
    "### Process 1A (Outputs 6): Top x queries with the most impressions"
   ]
  },
  {
   "cell_type": "code",
   "execution_count": 46,
   "id": "12b198e7-fd0a-4181-b7e0-993434086bce",
   "metadata": {},
   "outputs": [
    {
     "name": "stdout",
     "output_type": "stream",
     "text": [
      "\n",
      "Top 15 Queries with the Most Impressions:\n",
      "    Rank                                     Top queries  Impressions  Clicks  \\\n",
      "0      1                       best christmas tree stand          390       0   \n",
      "1      2                      best christmas tree stands          256       0   \n",
      "2      3                            best xmas tree stand           94       0   \n",
      "3      4                              christmas tree mat           79       0   \n",
      "4      5                best rated christmas tree stands           74       0   \n",
      "5      6                       top christmas tree stands           71       0   \n",
      "6      7       christmas tree stand with water reservoir           68       0   \n",
      "7      8                 top rated christmas tree stands           63       0   \n",
      "8      9                            best real tree stand           63       0   \n",
      "9     10              best christmas tree stands reviews           62       0   \n",
      "10    11                best swivel christmas tree stand           52       0   \n",
      "11    12  real christmas tree stand with water reservoir           36       0   \n",
      "12    13                  the best christmas tree stands           33       0   \n",
      "13    14                       christmas tree floor mats           33       0   \n",
      "14    15                  christmas tree floor protector           21       0   \n",
      "\n",
      "   CTR  Position  \n",
      "0   0%     48.75  \n",
      "1   0%     48.91  \n",
      "2   0%     49.06  \n",
      "3   0%     26.67  \n",
      "4   0%     55.45  \n",
      "5   0%     28.10  \n",
      "6   0%     27.51  \n",
      "7   0%     22.05  \n",
      "8   0%     69.44  \n",
      "9   0%     24.18  \n",
      "10  0%     65.23  \n",
      "11  0%     25.47  \n",
      "12  0%     28.30  \n",
      "13  0%     30.94  \n",
      "14  0%     38.48  \n",
      "Saved to Output/6_GSC_Top_15_Queries_By_Impressions.csv\n"
     ]
    }
   ],
   "source": [
    "# Process\n",
    "def get_top_queries_by_impressions(df_queries, queries_with_most_impressions=15):\n",
    "    top_impressions_df = df_queries.sort_values(by='Impressions', ascending=False).head(queries_with_most_impressions)\n",
    "    return top_impressions_df\n",
    "\n",
    "top_impressions = get_top_queries_by_impressions(df_queries, queries_with_most_impressions)\n",
    "top_impressions = top_impressions.reset_index(drop=True)\n",
    "top_impressions.insert(0, 'Rank', top_impressions.index + 1)\n",
    "\n",
    "# Print Results\n",
    "print(f\"\\nTop {queries_with_most_impressions} Queries with the Most Impressions:\")\n",
    "print(top_impressions[['Rank', 'Top queries', 'Impressions', 'Clicks', 'CTR', 'Position']])\n",
    "\n",
    "# Save to CSV\n",
    "if save_csv_files:\n",
    "    os.makedirs(output_folder, exist_ok=True)  \n",
    "    top_impressions.to_csv(f'{output_folder}/6_GSC_Top_{queries_with_most_impressions}_Queries_By_Impressions.csv', index=False)\n",
    "    print(f\"Saved to {output_folder}/6_GSC_Top_{queries_with_most_impressions}_Queries_By_Impressions.csv\")\n",
    "\n",
    "# Process Powerpoint\n",
    "slide6 = ppt.slides[5]\n",
    "for shape in slide6.shapes:\n",
    "    if not shape.has_text_frame:\n",
    "        continue\n",
    "    for paragraph in shape.text_frame.paragraphs:\n",
    "        for run in paragraph.runs:\n",
    "            if \"Website\" in run.text:\n",
    "                text = run.text\n",
    "                text = text.replace(\"Website\", ppt_website)\n",
    "                run.text = text\n",
    "                \n",
    "left = Inches(0.5)\n",
    "top = Inches(1.5)\n",
    "rows = top_impressions.shape[0] + 1\n",
    "cols = 6\n",
    "for shape in list(slide6.shapes):\n",
    "    if shape.shape_type == 19:  # 19 is for table shapes\n",
    "        slide6.shapes._spTree.remove(shape._element)\n",
    "table_shape = slide6.shapes.add_table(rows,cols,left,top,Inches(9),Inches(0.8+0.3*rows))\n",
    "table = table_shape.table\n",
    "column_widths = {\n",
    "    0: 1026000,  # Rank – 2.85 cm\n",
    "    1: 2520000,  # Top queries – 7 cm\n",
    "    2: 1026000,  # Impressions\n",
    "    3: 1026000,  # Clicks\n",
    "    4: 1026000,  # CTR\n",
    "    5: 1026000,  # Position\n",
    "}\n",
    "row_height = 216000\n",
    "for row_idx in range(rows):\n",
    "    table.rows[row_idx].height = row_height\n",
    "for col_idx, width in column_widths.items():\n",
    "    table.columns[col_idx].width = width\n",
    "headers = [\"Rank\", \"Top queries\", \"Impressions\", \"Clicks\", \"CTR\", \"Position\"]\n",
    "for col_idx, header in enumerate(headers):\n",
    "    cell = table.cell(0, col_idx)\n",
    "    cell.text = header\n",
    "    for paragraph in cell.text_frame.paragraphs:\n",
    "        for run in paragraph.runs:\n",
    "            run.font.bold = True\n",
    "            run.font.size = Pt(10)\n",
    "for row_idx, row_data in top_impressions.iterrows():\n",
    "    for col_idx, col_name in enumerate(headers):\n",
    "        cell = table.cell(row_idx + 1, col_idx)\n",
    "        cell.text = str(row_data[col_name])\n",
    "        for paragraph in cell.text_frame.paragraphs:\n",
    "            for run in paragraph.runs:\n",
    "                run.font.size = Pt(8)"
   ]
  },
  {
   "cell_type": "markdown",
   "id": "e0dbda39-31ce-48bc-9b27-8db36e8db3c4",
   "metadata": {},
   "source": [
    "### Process 1B (Outputs 1-2) Top performing pages"
   ]
  },
  {
   "cell_type": "code",
   "execution_count": 47,
   "id": "45d505c5-43a8-4f50-9cfb-51763dee1e02",
   "metadata": {},
   "outputs": [
    {
     "name": "stdout",
     "output_type": "stream",
     "text": [
      "Top Performing Page:\n",
      "                                           Top pages  Clicks  Impressions CTR  \\\n",
      "0  https://merrymount.co/blogs/merry-mount-blog/t...       0         1384  0%   \n",
      "\n",
      "   Position  \n",
      "0     46.37  \n",
      "\n",
      "Top 5 Performing Pages:\n",
      "                                           Top pages  Clicks  Impressions CTR  \\\n",
      "0  https://merrymount.co/blogs/merry-mount-blog/t...       0         1384  0%   \n",
      "1  https://merrymount.co/products/automatic-chris...       0          380  0%   \n",
      "2  https://merrymount.co/products/reversible-chri...       0          314  0%   \n",
      "3              https://merrymount.co/collections/all       0           38  0%   \n",
      "4                             https://merrymount.co/       0           16  0%   \n",
      "\n",
      "   Position  \n",
      "0     46.37  \n",
      "1     41.87  \n",
      "2     32.70  \n",
      "3     42.66  \n",
      "4     16.44  \n",
      "\n",
      "Saved to Output/7_GSC_top_performing_page.csv\n",
      "Saved to Output/8_GSC_top_5_performing_pages.csv\n"
     ]
    }
   ],
   "source": [
    "def extract_top_performing_pages(\n",
    "    output_folder,\n",
    "    top_5_best_performing_pages=False,\n",
    "    save_csv_files=False\n",
    "):\n",
    "\n",
    "    # Process\n",
    "    top_page = df_pages.head(1)\n",
    "    top_5_pages = df_pages.head(5) if top_5_best_performing_pages else None\n",
    "\n",
    "    # Print Results\n",
    "    print(\"Top Performing Page:\")\n",
    "    print(top_page)\n",
    "    \n",
    "    if top_5_best_performing_pages:\n",
    "        print(\"\\nTop 5 Performing Pages:\")\n",
    "        print(top_5_pages)\n",
    "\n",
    "    # Save to CSV\n",
    "    if save_csv_files:\n",
    "        os.makedirs(output_folder, exist_ok=True)  # Ensure the folder exists\n",
    "        top_page.to_csv(f\"{output_folder}/7_GSC_top_performing_page.csv\", index=False)\n",
    "        print(f\"\\nSaved to {output_folder}/7_GSC_top_performing_page.csv\")\n",
    "\n",
    "        if top_5_best_performing_pages:\n",
    "            top_5_pages.to_csv(f\"{output_folder}/8_GSC_top_5_performing_pages.csv\", index=False)\n",
    "            print(f\"Saved to {output_folder}/8_GSC_top_5_performing_pages.csv\")\n",
    "\n",
    "    return top_page, top_5_pages\n",
    "\n",
    "top_page, top_5_pages = extract_top_performing_pages(output_folder, top_5_best_performing_pages, save_csv_files)\n",
    "\n",
    "# Process Powerpoint\n",
    "top_page_ppt = top_page.iloc[0]\n",
    "replacements = {\n",
    "    \"Website\": ppt_website,\n",
    "    \"toppageurl\": str(top_page_ppt['Top pages']).rsplit('/', 1)[-1],\n",
    "    \"toppageclicks\": str(top_page_ppt['Clicks']),\n",
    "    \"toppageimpressions\": str(top_page_ppt['Impressions']),\n",
    "    \"toppagectr\": str(top_page_ppt['CTR']),\n",
    "    \"toppagepos\": str(top_page_ppt['Position']),\n",
    "}\n",
    "\n",
    "slide7 = ppt.slides[6]\n",
    "for shape in slide7.shapes:\n",
    "    if not shape.has_text_frame:\n",
    "        continue\n",
    "    for paragraph in shape.text_frame.paragraphs:\n",
    "        for run in paragraph.runs:\n",
    "            for key, value in replacements.items():\n",
    "                if key in run.text:\n",
    "                    run.text = run.text.replace(key, value)\n",
    "\n",
    "left = Inches(1.5)\n",
    "top = Inches(3.25)\n",
    "rows = top_5_pages.shape[0] + 1\n",
    "cols = 5\n",
    "for shape in list(slide7.shapes):\n",
    "    if shape.shape_type == 19:  # 19 is for table shapes\n",
    "        slide7.shapes._spTree.remove(shape._element)\n",
    "table_shape = slide7.shapes.add_table(rows,cols,left,top,Inches(9),Inches(0.8+0.3*rows))\n",
    "table = table_shape.table\n",
    "column_widths = {\n",
    "    0: 2520000,  # Top pages – 7 cm\n",
    "    1: 1026000,  # Impressions - 2.85 cm\n",
    "    2: 1026000,  # Clicks\n",
    "    3: 1026000,  # CTR\n",
    "    4: 1026000,  # Position\n",
    "}\n",
    "row_height = 216000\n",
    "for row_idx in range(rows):\n",
    "    table.rows[row_idx].height = row_height\n",
    "for col_idx, width in column_widths.items():\n",
    "    table.columns[col_idx].width = width\n",
    "headers = [\"Top pages\", \"Clicks\", \"Impressions\", \"CTR\", \"Position\"]\n",
    "for col_idx, header in enumerate(headers):\n",
    "    cell = table.cell(0, col_idx)\n",
    "    cell.text = header\n",
    "    for paragraph in cell.text_frame.paragraphs:\n",
    "        for run in paragraph.runs:\n",
    "            run.font.bold = True\n",
    "            run.font.size = Pt(10)\n",
    "for row_idx, row_data in top_5_pages.iterrows():\n",
    "    for col_idx, col_name in enumerate(headers):\n",
    "        cell = table.cell(row_idx + 1, col_idx)\n",
    "        cell.text = str(row_data[col_name])\n",
    "        for paragraph in cell.text_frame.paragraphs:\n",
    "            for run in paragraph.runs:\n",
    "                run.font.size = Pt(8)"
   ]
  },
  {
   "cell_type": "markdown",
   "id": "8de69446-4ca0-4d67-946d-eab03bfbb0b9",
   "metadata": {},
   "source": [
    "### Process 1B (Outputs 3-4) Underperforming pages"
   ]
  },
  {
   "cell_type": "code",
   "execution_count": 48,
   "id": "92e8feeb-8ff5-430c-8291-dc8c635b9106",
   "metadata": {},
   "outputs": [
    {
     "name": "stdout",
     "output_type": "stream",
     "text": [
      "Worst Performing Page:\n",
      "                                         Top pages  Clicks  Impressions CTR  \\\n",
      "13  https://merrymount.co/pages/email-subscription       0            1  0%   \n",
      "\n",
      "    Position  \n",
      "13      10.0  \n",
      "\n",
      "Bottom 5 Performing Pages:\n",
      "                                         Top pages  Clicks  Impressions CTR  \\\n",
      "9       https://merrymount.co/pages/mission-values       0            2  0%   \n",
      "10             https://merrymount.co/pages/contact       0            2  0%   \n",
      "11                https://merrymount.co/blogs/news       0            1  0%   \n",
      "12       https://merrymount.co/pages/return-policy       0            1  0%   \n",
      "13  https://merrymount.co/pages/email-subscription       0            1  0%   \n",
      "\n",
      "    Position  \n",
      "9       17.0  \n",
      "10      24.0  \n",
      "11       3.0  \n",
      "12       9.0  \n",
      "13      10.0  \n",
      "\n",
      "Saved to Output/9_GSC_worst_performing_page.csv\n",
      "Saved to Output/10_GSC_bottom_5_performing_pages.csv\n"
     ]
    }
   ],
   "source": [
    "def extract_underperforming_performing_pages(\n",
    "    output_folder,\n",
    "    top_5_worst_performing_pages=False,\n",
    "    save_csv_files=False\n",
    "):\n",
    "\n",
    "    # Process\n",
    "    bottom_page = df_pages.tail(1)\n",
    "    bottom_5_pages = df_pages.tail(5) if top_5_worst_performing_pages else None\n",
    "\n",
    "    # Print Results\n",
    "    print(\"Worst Performing Page:\")\n",
    "    print(bottom_page)\n",
    "    \n",
    "    if top_5_worst_performing_pages:\n",
    "        print(\"\\nBottom 5 Performing Pages:\")\n",
    "        print(bottom_5_pages)\n",
    "\n",
    "    # Save to CSV\n",
    "    if save_csv_files:\n",
    "        os.makedirs(output_folder, exist_ok=True)  \n",
    "        bottom_page.to_csv(f\"{output_folder}/9_GSC_worst_performing_page.csv\", index=False)\n",
    "        print(f\"\\nSaved to {output_folder}/9_GSC_worst_performing_page.csv\")\n",
    "\n",
    "        if top_5_worst_performing_pages:\n",
    "            bottom_5_pages.to_csv(f\"{output_folder}/10_GSC_bottom_5_performing_pages.csv\", index=False)\n",
    "            print(f\"Saved to {output_folder}/10_GSC_bottom_5_performing_pages.csv\")\n",
    "\n",
    "    return bottom_page, bottom_5_pages\n",
    "\n",
    "bottom_page, bottom_5_pages = extract_underperforming_performing_pages(output_folder, top_5_worst_performing_pages, save_csv_files)\n",
    "\n",
    "# Process Powerpoint\n",
    "bottom_page_ppt = bottom_page.iloc[0]\n",
    "replacements = {\n",
    "    \"Website\": ppt_website,\n",
    "    \"bottompageurl\": str(bottom_page_ppt['Top pages']).rsplit('/', 1)[-1],\n",
    "    \"bottompageclicks\": str(bottom_page_ppt['Clicks']),\n",
    "    \"bottompageimpressions\": str(bottom_page_ppt['Impressions']),\n",
    "    \"bottompagectr\": str(bottom_page_ppt['CTR']),\n",
    "    \"bottompagepos\": str(bottom_page_ppt['Position']),\n",
    "}\n",
    "\n",
    "slide8 = ppt.slides[7]\n",
    "for shape in slide8.shapes:\n",
    "    if not shape.has_text_frame:\n",
    "        continue\n",
    "    for paragraph in shape.text_frame.paragraphs:\n",
    "        for run in paragraph.runs:\n",
    "            for key, value in replacements.items():\n",
    "                if key in run.text:\n",
    "                    run.text = run.text.replace(key, value)\n",
    "\n",
    "left = Inches(1.5)\n",
    "top = Inches(3.25)\n",
    "rows = bottom_5_pages.shape[0] + 1\n",
    "cols = 5\n",
    "for shape in list(slide8.shapes):\n",
    "    if shape.shape_type == 19:  # 19 is for table shapes\n",
    "        slide8.shapes._spTree.remove(shape._element)\n",
    "table_shape = slide8.shapes.add_table(rows,cols,left,top,Inches(9),Inches(0.8+0.3*rows))\n",
    "table = table_shape.table\n",
    "column_widths = {\n",
    "    0: 2520000,  # Top pages – 7 cm\n",
    "    1: 1026000,  # Impressions - 2.85 cm\n",
    "    2: 1026000,  # Clicks\n",
    "    3: 1026000,  # CTR\n",
    "    4: 1026000,  # Position\n",
    "}\n",
    "row_height = 216000\n",
    "for row_idx in range(rows):\n",
    "    table.rows[row_idx].height = row_height\n",
    "for col_idx, width in column_widths.items():\n",
    "    table.columns[col_idx].width = width\n",
    "bottom_5_pages = bottom_5_pages.reset_index(drop=True)\n",
    "headers = [\"Top pages\", \"Clicks\", \"Impressions\", \"CTR\", \"Position\"]\n",
    "for col_idx, header in enumerate(headers):\n",
    "    cell = table.cell(0, col_idx)\n",
    "    cell.text = header\n",
    "    for paragraph in cell.text_frame.paragraphs:\n",
    "        for run in paragraph.runs:\n",
    "            run.font.bold = True\n",
    "            run.font.size = Pt(10)\n",
    "for row_idx, row_data in bottom_5_pages.iterrows():\n",
    "    for col_idx, col_name in enumerate(headers):\n",
    "        cell = table.cell(row_idx + 1, col_idx)\n",
    "        cell.text = str(row_data[col_name])\n",
    "        for paragraph in cell.text_frame.paragraphs:\n",
    "            for run in paragraph.runs:\n",
    "                run.font.size = Pt(8)"
   ]
  },
  {
   "cell_type": "markdown",
   "id": "f837afa9-1dbc-4305-bc66-894c6e2bc825",
   "metadata": {},
   "source": [
    "### Process 1C (Output 1) Top 5 Countries"
   ]
  },
  {
   "cell_type": "code",
   "execution_count": 49,
   "id": "29382bde-ac15-43d9-9687-dc7b14389cd8",
   "metadata": {},
   "outputs": [
    {
     "name": "stdout",
     "output_type": "stream",
     "text": [
      "Top 5 Countries:\n",
      "          Country  Clicks  Impressions CTR  Position\n",
      "0   United States       0          792  0%     41.62\n",
      "1          Brazil       0          269  0%     45.82\n",
      "2  United Kingdom       0          117  0%     39.15\n",
      "3           India       0           90  0%     46.89\n",
      "4          Russia       0           86  0%     46.24\n",
      "\n",
      "Saved to Output/11_GSC_top_countries.csv\n"
     ]
    }
   ],
   "source": [
    "def extract_top_countries(\n",
    "    output_folder,\n",
    "    save_csv_files=False\n",
    "):\n",
    "\n",
    "    # Process\n",
    "    top_countries = df_countries.head(5)\n",
    "\n",
    "    # Print Results\n",
    "    print(\"Top 5 Countries:\")\n",
    "    print(top_countries)\n",
    "\n",
    "    # Save to CSV\n",
    "    if save_csv_files:\n",
    "        os.makedirs(output_folder, exist_ok=True)  \n",
    "        top_countries.to_csv(f\"{output_folder}/11_GSC_top_countries.csv\", index=False)\n",
    "        print(f\"\\nSaved to {output_folder}/11_GSC_top_countries.csv\")\n",
    "\n",
    "    return top_countries\n",
    "\n",
    "top_countries = extract_top_countries(output_folder, save_csv_files)\n",
    "\n",
    "# Process Powerpoint\n",
    "slide9 = ppt.slides[8]\n",
    "for shape in slide9.shapes:\n",
    "    if not shape.has_text_frame:\n",
    "        continue\n",
    "    for paragraph in shape.text_frame.paragraphs:\n",
    "        for run in paragraph.runs:\n",
    "            if \"Website\" in run.text:\n",
    "                text = run.text\n",
    "                text = text.replace(\"Website\", ppt_website)\n",
    "                run.text = text\n",
    "                \n",
    "left = Inches(0.5)\n",
    "top = Inches(1.5)\n",
    "rows = top_countries.shape[0] + 1\n",
    "cols = 5\n",
    "for shape in list(slide9.shapes):\n",
    "    if shape.shape_type == 19:  # 19 is for table shapes\n",
    "        slide9.shapes._spTree.remove(shape._element)\n",
    "table_shape = slide9.shapes.add_table(rows,cols,left,top,Inches(9),Inches(0.8+0.3*rows))\n",
    "table = table_shape.table\n",
    "column_widths = {\n",
    "    0: 1026000,  # Country – 2.85 cm\n",
    "    1: 1026000,  # Clicks\n",
    "    2: 1026000,  # Impressions\n",
    "    3: 1026000,  # CTR\n",
    "    4: 1026000,  # Position\n",
    "}\n",
    "for col_idx, width in column_widths.items():\n",
    "    table.columns[col_idx].width = width\n",
    "headers = [\"Country\", \"Clicks\", \"Impressions\", \"CTR\", \"Position\"]\n",
    "for col_idx, header in enumerate(headers):\n",
    "    cell = table.cell(0, col_idx)\n",
    "    cell.text = header\n",
    "    for paragraph in cell.text_frame.paragraphs:\n",
    "        for run in paragraph.runs:\n",
    "            run.font.bold = True\n",
    "            run.font.size = Pt(10)\n",
    "for row_idx, row_data in top_countries.iterrows():\n",
    "    for col_idx, col_name in enumerate(headers):\n",
    "        cell = table.cell(row_idx + 1, col_idx)\n",
    "        cell.text = str(row_data[col_name])\n",
    "        for paragraph in cell.text_frame.paragraphs:\n",
    "            for run in paragraph.runs:\n",
    "                run.font.size = Pt(10)"
   ]
  },
  {
   "cell_type": "markdown",
   "id": "81788fbc-613a-4635-921d-bc448f95b13a",
   "metadata": {},
   "source": [
    "### Process 1D (Output 1) Pie Chart for Clicks by Device Type"
   ]
  },
  {
   "cell_type": "code",
   "execution_count": 50,
   "id": "85cd9f9f-49f3-40eb-a95d-9e26032d52e0",
   "metadata": {},
   "outputs": [
    {
     "data": {
      "application/vnd.plotly.v1+json": {
       "config": {
        "plotlyServerURL": "https://plot.ly"
       },
       "data": [
        {
         "domain": {
          "x": [
           0,
           1
          ],
          "y": [
           0,
           1
          ]
         },
         "hole": 0,
         "hovertemplate": "Device=%{label}<br>Clicks=%{value}<extra></extra>",
         "insidetextorientation": "auto",
         "labels": [
          "Desktop",
          "Mobile"
         ],
         "legendgroup": "",
         "name": "",
         "pull": [
          0.05,
          0.05
         ],
         "showlegend": true,
         "textinfo": "value",
         "textposition": "inside",
         "type": "pie",
         "values": {
          "_inputArray": {
           "0": 0,
           "1": 0,
           "bdata": "AAA=",
           "dtype": "i1",
           "shape": "2"
          },
          "bdata": "AAA=",
          "dtype": "i1"
         }
        }
       ],
       "layout": {
        "autosize": true,
        "legend": {
         "title": {
          "text": "Device"
         },
         "tracegroupgap": 0
        },
        "template": {
         "data": {
          "bar": [
           {
            "error_x": {
             "color": "#2a3f5f"
            },
            "error_y": {
             "color": "#2a3f5f"
            },
            "marker": {
             "line": {
              "color": "#E5ECF6",
              "width": 0.5
             },
             "pattern": {
              "fillmode": "overlay",
              "size": 10,
              "solidity": 0.2
             }
            },
            "type": "bar"
           }
          ],
          "barpolar": [
           {
            "marker": {
             "line": {
              "color": "#E5ECF6",
              "width": 0.5
             },
             "pattern": {
              "fillmode": "overlay",
              "size": 10,
              "solidity": 0.2
             }
            },
            "type": "barpolar"
           }
          ],
          "carpet": [
           {
            "aaxis": {
             "endlinecolor": "#2a3f5f",
             "gridcolor": "white",
             "linecolor": "white",
             "minorgridcolor": "white",
             "startlinecolor": "#2a3f5f"
            },
            "baxis": {
             "endlinecolor": "#2a3f5f",
             "gridcolor": "white",
             "linecolor": "white",
             "minorgridcolor": "white",
             "startlinecolor": "#2a3f5f"
            },
            "type": "carpet"
           }
          ],
          "choropleth": [
           {
            "colorbar": {
             "outlinewidth": 0,
             "ticks": ""
            },
            "type": "choropleth"
           }
          ],
          "contour": [
           {
            "colorbar": {
             "outlinewidth": 0,
             "ticks": ""
            },
            "colorscale": [
             [
              0,
              "#0d0887"
             ],
             [
              0.1111111111111111,
              "#46039f"
             ],
             [
              0.2222222222222222,
              "#7201a8"
             ],
             [
              0.3333333333333333,
              "#9c179e"
             ],
             [
              0.4444444444444444,
              "#bd3786"
             ],
             [
              0.5555555555555556,
              "#d8576b"
             ],
             [
              0.6666666666666666,
              "#ed7953"
             ],
             [
              0.7777777777777778,
              "#fb9f3a"
             ],
             [
              0.8888888888888888,
              "#fdca26"
             ],
             [
              1,
              "#f0f921"
             ]
            ],
            "type": "contour"
           }
          ],
          "contourcarpet": [
           {
            "colorbar": {
             "outlinewidth": 0,
             "ticks": ""
            },
            "type": "contourcarpet"
           }
          ],
          "heatmap": [
           {
            "colorbar": {
             "outlinewidth": 0,
             "ticks": ""
            },
            "colorscale": [
             [
              0,
              "#0d0887"
             ],
             [
              0.1111111111111111,
              "#46039f"
             ],
             [
              0.2222222222222222,
              "#7201a8"
             ],
             [
              0.3333333333333333,
              "#9c179e"
             ],
             [
              0.4444444444444444,
              "#bd3786"
             ],
             [
              0.5555555555555556,
              "#d8576b"
             ],
             [
              0.6666666666666666,
              "#ed7953"
             ],
             [
              0.7777777777777778,
              "#fb9f3a"
             ],
             [
              0.8888888888888888,
              "#fdca26"
             ],
             [
              1,
              "#f0f921"
             ]
            ],
            "type": "heatmap"
           }
          ],
          "histogram": [
           {
            "marker": {
             "pattern": {
              "fillmode": "overlay",
              "size": 10,
              "solidity": 0.2
             }
            },
            "type": "histogram"
           }
          ],
          "histogram2d": [
           {
            "colorbar": {
             "outlinewidth": 0,
             "ticks": ""
            },
            "colorscale": [
             [
              0,
              "#0d0887"
             ],
             [
              0.1111111111111111,
              "#46039f"
             ],
             [
              0.2222222222222222,
              "#7201a8"
             ],
             [
              0.3333333333333333,
              "#9c179e"
             ],
             [
              0.4444444444444444,
              "#bd3786"
             ],
             [
              0.5555555555555556,
              "#d8576b"
             ],
             [
              0.6666666666666666,
              "#ed7953"
             ],
             [
              0.7777777777777778,
              "#fb9f3a"
             ],
             [
              0.8888888888888888,
              "#fdca26"
             ],
             [
              1,
              "#f0f921"
             ]
            ],
            "type": "histogram2d"
           }
          ],
          "histogram2dcontour": [
           {
            "colorbar": {
             "outlinewidth": 0,
             "ticks": ""
            },
            "colorscale": [
             [
              0,
              "#0d0887"
             ],
             [
              0.1111111111111111,
              "#46039f"
             ],
             [
              0.2222222222222222,
              "#7201a8"
             ],
             [
              0.3333333333333333,
              "#9c179e"
             ],
             [
              0.4444444444444444,
              "#bd3786"
             ],
             [
              0.5555555555555556,
              "#d8576b"
             ],
             [
              0.6666666666666666,
              "#ed7953"
             ],
             [
              0.7777777777777778,
              "#fb9f3a"
             ],
             [
              0.8888888888888888,
              "#fdca26"
             ],
             [
              1,
              "#f0f921"
             ]
            ],
            "type": "histogram2dcontour"
           }
          ],
          "mesh3d": [
           {
            "colorbar": {
             "outlinewidth": 0,
             "ticks": ""
            },
            "type": "mesh3d"
           }
          ],
          "parcoords": [
           {
            "line": {
             "colorbar": {
              "outlinewidth": 0,
              "ticks": ""
             }
            },
            "type": "parcoords"
           }
          ],
          "pie": [
           {
            "automargin": true,
            "type": "pie"
           }
          ],
          "scatter": [
           {
            "fillpattern": {
             "fillmode": "overlay",
             "size": 10,
             "solidity": 0.2
            },
            "type": "scatter"
           }
          ],
          "scatter3d": [
           {
            "line": {
             "colorbar": {
              "outlinewidth": 0,
              "ticks": ""
             }
            },
            "marker": {
             "colorbar": {
              "outlinewidth": 0,
              "ticks": ""
             }
            },
            "type": "scatter3d"
           }
          ],
          "scattercarpet": [
           {
            "marker": {
             "colorbar": {
              "outlinewidth": 0,
              "ticks": ""
             }
            },
            "type": "scattercarpet"
           }
          ],
          "scattergeo": [
           {
            "marker": {
             "colorbar": {
              "outlinewidth": 0,
              "ticks": ""
             }
            },
            "type": "scattergeo"
           }
          ],
          "scattergl": [
           {
            "marker": {
             "colorbar": {
              "outlinewidth": 0,
              "ticks": ""
             }
            },
            "type": "scattergl"
           }
          ],
          "scattermap": [
           {
            "marker": {
             "colorbar": {
              "outlinewidth": 0,
              "ticks": ""
             }
            },
            "type": "scattermap"
           }
          ],
          "scattermapbox": [
           {
            "marker": {
             "colorbar": {
              "outlinewidth": 0,
              "ticks": ""
             }
            },
            "type": "scattermapbox"
           }
          ],
          "scatterpolar": [
           {
            "marker": {
             "colorbar": {
              "outlinewidth": 0,
              "ticks": ""
             }
            },
            "type": "scatterpolar"
           }
          ],
          "scatterpolargl": [
           {
            "marker": {
             "colorbar": {
              "outlinewidth": 0,
              "ticks": ""
             }
            },
            "type": "scatterpolargl"
           }
          ],
          "scatterternary": [
           {
            "marker": {
             "colorbar": {
              "outlinewidth": 0,
              "ticks": ""
             }
            },
            "type": "scatterternary"
           }
          ],
          "surface": [
           {
            "colorbar": {
             "outlinewidth": 0,
             "ticks": ""
            },
            "colorscale": [
             [
              0,
              "#0d0887"
             ],
             [
              0.1111111111111111,
              "#46039f"
             ],
             [
              0.2222222222222222,
              "#7201a8"
             ],
             [
              0.3333333333333333,
              "#9c179e"
             ],
             [
              0.4444444444444444,
              "#bd3786"
             ],
             [
              0.5555555555555556,
              "#d8576b"
             ],
             [
              0.6666666666666666,
              "#ed7953"
             ],
             [
              0.7777777777777778,
              "#fb9f3a"
             ],
             [
              0.8888888888888888,
              "#fdca26"
             ],
             [
              1,
              "#f0f921"
             ]
            ],
            "type": "surface"
           }
          ],
          "table": [
           {
            "cells": {
             "fill": {
              "color": "#EBF0F8"
             },
             "line": {
              "color": "white"
             }
            },
            "header": {
             "fill": {
              "color": "#C8D4E3"
             },
             "line": {
              "color": "white"
             }
            },
            "type": "table"
           }
          ]
         },
         "layout": {
          "annotationdefaults": {
           "arrowcolor": "#2a3f5f",
           "arrowhead": 0,
           "arrowwidth": 1
          },
          "autotypenumbers": "strict",
          "coloraxis": {
           "colorbar": {
            "outlinewidth": 0,
            "ticks": ""
           }
          },
          "colorscale": {
           "diverging": [
            [
             0,
             "#8e0152"
            ],
            [
             0.1,
             "#c51b7d"
            ],
            [
             0.2,
             "#de77ae"
            ],
            [
             0.3,
             "#f1b6da"
            ],
            [
             0.4,
             "#fde0ef"
            ],
            [
             0.5,
             "#f7f7f7"
            ],
            [
             0.6,
             "#e6f5d0"
            ],
            [
             0.7,
             "#b8e186"
            ],
            [
             0.8,
             "#7fbc41"
            ],
            [
             0.9,
             "#4d9221"
            ],
            [
             1,
             "#276419"
            ]
           ],
           "sequential": [
            [
             0,
             "#0d0887"
            ],
            [
             0.1111111111111111,
             "#46039f"
            ],
            [
             0.2222222222222222,
             "#7201a8"
            ],
            [
             0.3333333333333333,
             "#9c179e"
            ],
            [
             0.4444444444444444,
             "#bd3786"
            ],
            [
             0.5555555555555556,
             "#d8576b"
            ],
            [
             0.6666666666666666,
             "#ed7953"
            ],
            [
             0.7777777777777778,
             "#fb9f3a"
            ],
            [
             0.8888888888888888,
             "#fdca26"
            ],
            [
             1,
             "#f0f921"
            ]
           ],
           "sequentialminus": [
            [
             0,
             "#0d0887"
            ],
            [
             0.1111111111111111,
             "#46039f"
            ],
            [
             0.2222222222222222,
             "#7201a8"
            ],
            [
             0.3333333333333333,
             "#9c179e"
            ],
            [
             0.4444444444444444,
             "#bd3786"
            ],
            [
             0.5555555555555556,
             "#d8576b"
            ],
            [
             0.6666666666666666,
             "#ed7953"
            ],
            [
             0.7777777777777778,
             "#fb9f3a"
            ],
            [
             0.8888888888888888,
             "#fdca26"
            ],
            [
             1,
             "#f0f921"
            ]
           ]
          },
          "colorway": [
           "#636efa",
           "#EF553B",
           "#00cc96",
           "#ab63fa",
           "#FFA15A",
           "#19d3f3",
           "#FF6692",
           "#B6E880",
           "#FF97FF",
           "#FECB52"
          ],
          "font": {
           "color": "#2a3f5f"
          },
          "geo": {
           "bgcolor": "white",
           "lakecolor": "white",
           "landcolor": "#E5ECF6",
           "showlakes": true,
           "showland": true,
           "subunitcolor": "white"
          },
          "hoverlabel": {
           "align": "left"
          },
          "hovermode": "closest",
          "mapbox": {
           "style": "light"
          },
          "paper_bgcolor": "white",
          "plot_bgcolor": "#E5ECF6",
          "polar": {
           "angularaxis": {
            "gridcolor": "white",
            "linecolor": "white",
            "ticks": ""
           },
           "bgcolor": "#E5ECF6",
           "radialaxis": {
            "gridcolor": "white",
            "linecolor": "white",
            "ticks": ""
           }
          },
          "scene": {
           "xaxis": {
            "backgroundcolor": "#E5ECF6",
            "gridcolor": "white",
            "gridwidth": 2,
            "linecolor": "white",
            "showbackground": true,
            "ticks": "",
            "zerolinecolor": "white"
           },
           "yaxis": {
            "backgroundcolor": "#E5ECF6",
            "gridcolor": "white",
            "gridwidth": 2,
            "linecolor": "white",
            "showbackground": true,
            "ticks": "",
            "zerolinecolor": "white"
           },
           "zaxis": {
            "backgroundcolor": "#E5ECF6",
            "gridcolor": "white",
            "gridwidth": 2,
            "linecolor": "white",
            "showbackground": true,
            "ticks": "",
            "zerolinecolor": "white"
           }
          },
          "shapedefaults": {
           "line": {
            "color": "#2a3f5f"
           }
          },
          "ternary": {
           "aaxis": {
            "gridcolor": "white",
            "linecolor": "white",
            "ticks": ""
           },
           "baxis": {
            "gridcolor": "white",
            "linecolor": "white",
            "ticks": ""
           },
           "bgcolor": "#E5ECF6",
           "caxis": {
            "gridcolor": "white",
            "linecolor": "white",
            "ticks": ""
           }
          },
          "title": {
           "x": 0.05
          },
          "xaxis": {
           "automargin": true,
           "gridcolor": "white",
           "linecolor": "white",
           "ticks": "",
           "title": {
            "standoff": 15
           },
           "zerolinecolor": "white",
           "zerolinewidth": 2
          },
          "yaxis": {
           "automargin": true,
           "gridcolor": "white",
           "linecolor": "white",
           "ticks": "",
           "title": {
            "standoff": 15
           },
           "zerolinecolor": "white",
           "zerolinewidth": 2
          }
         }
        },
        "title": {
         "text": "Clicks by Device"
        },
        "uniformtext": {
         "minsize": 12,
         "mode": "hide"
        }
       }
      }
     },
     "metadata": {},
     "output_type": "display_data"
    },
    {
     "name": "stdout",
     "output_type": "stream",
     "text": [
      "Saved to Output\\12_GSC_Clicks_By_Device.png\n"
     ]
    }
   ],
   "source": [
    "def plot_clicks_by_device(output_folder=\".\", save_charts=False):\n",
    "\n",
    "    # Process\n",
    "    fig = px.pie(\n",
    "        df_devices,\n",
    "        names=\"Device\",\n",
    "        values=\"Clicks\",\n",
    "        title=\"Clicks by Device\",\n",
    "        hole=0,  \n",
    "    )\n",
    "    \n",
    "    fig.update_traces(\n",
    "        textinfo='value',  \n",
    "        textposition='inside',\n",
    "        pull=[0.05]*len(df_devices),  \n",
    "        insidetextorientation='auto',\n",
    "        showlegend=True\n",
    "    )\n",
    "\n",
    "    fig.update_layout(\n",
    "        uniformtext_minsize=12,\n",
    "        uniformtext_mode='hide',\n",
    "        legend_title_text=\"Device\",\n",
    "    )\n",
    "    \n",
    "    # Print Results\n",
    "    fig.show()\n",
    "\n",
    "    # Save Chart\n",
    "    if save_charts:\n",
    "        os.makedirs(output_folder, exist_ok=True)\n",
    "        file_path = os.path.join(output_folder, \"12_GSC_Clicks_By_Device.png\")\n",
    "        fig.write_image(file_path)\n",
    "        print(f\"Saved to {file_path}\")\n",
    "\n",
    "plot_clicks_by_device(output_folder=\"Output\", save_charts=True)\n",
    "\n",
    "# Process Powerpoint\n",
    "slide10 = ppt.slides[9]\n",
    "for shape in slide10.shapes:\n",
    "    if not shape.has_text_frame:\n",
    "        continue\n",
    "    for paragraph in shape.text_frame.paragraphs:\n",
    "        for run in paragraph.runs:\n",
    "            if \"Website\" in run.text:\n",
    "                text = run.text\n",
    "                text = text.replace(\"Website\", ppt_website)\n",
    "                run.text = text\n",
    "image_path = os.path.join(output_folder, \"12_GSC_Clicks_By_Device.png\")\n",
    "left = Inches(1)  \n",
    "top = Inches(1.5)    \n",
    "width = Inches(6) \n",
    "height = Inches(4)\n",
    "for shape in list(slide10.shapes):\n",
    "    if shape.shape_type == MSO_SHAPE_TYPE.PICTURE:\n",
    "        slide10.shapes._spTree.remove(shape._element)\n",
    "pic = slide10.shapes.add_picture(image_path, left, top, width=width, height=height)"
   ]
  },
  {
   "cell_type": "markdown",
   "id": "50f3bc51-48c8-4aa2-af24-1259d308095a",
   "metadata": {},
   "source": [
    "### Process 1D (Output 2) Pie Chart for Impressions by Device Type"
   ]
  },
  {
   "cell_type": "code",
   "execution_count": 51,
   "id": "e3e00f54-deec-444c-9146-6720428a9898",
   "metadata": {},
   "outputs": [
    {
     "data": {
      "application/vnd.plotly.v1+json": {
       "config": {
        "plotlyServerURL": "https://plot.ly"
       },
       "data": [
        {
         "domain": {
          "x": [
           0,
           1
          ],
          "y": [
           0,
           1
          ]
         },
         "hole": 0,
         "hovertemplate": "Device=%{label}<br>Impressions=%{value}<extra></extra>",
         "insidetextorientation": "auto",
         "labels": [
          "Desktop",
          "Mobile"
         ],
         "legendgroup": "",
         "name": "",
         "pull": [
          0.05,
          0.05
         ],
         "showlegend": true,
         "textinfo": "value",
         "textposition": "inside",
         "type": "pie",
         "values": {
          "_inputArray": {
           "0": 1456,
           "1": 668,
           "bdata": "sAWcAg==",
           "dtype": "i2",
           "shape": "2"
          },
          "bdata": "sAWcAg==",
          "dtype": "i2"
         }
        }
       ],
       "layout": {
        "autosize": true,
        "legend": {
         "title": {
          "text": "Device"
         },
         "tracegroupgap": 0
        },
        "template": {
         "data": {
          "bar": [
           {
            "error_x": {
             "color": "#2a3f5f"
            },
            "error_y": {
             "color": "#2a3f5f"
            },
            "marker": {
             "line": {
              "color": "#E5ECF6",
              "width": 0.5
             },
             "pattern": {
              "fillmode": "overlay",
              "size": 10,
              "solidity": 0.2
             }
            },
            "type": "bar"
           }
          ],
          "barpolar": [
           {
            "marker": {
             "line": {
              "color": "#E5ECF6",
              "width": 0.5
             },
             "pattern": {
              "fillmode": "overlay",
              "size": 10,
              "solidity": 0.2
             }
            },
            "type": "barpolar"
           }
          ],
          "carpet": [
           {
            "aaxis": {
             "endlinecolor": "#2a3f5f",
             "gridcolor": "white",
             "linecolor": "white",
             "minorgridcolor": "white",
             "startlinecolor": "#2a3f5f"
            },
            "baxis": {
             "endlinecolor": "#2a3f5f",
             "gridcolor": "white",
             "linecolor": "white",
             "minorgridcolor": "white",
             "startlinecolor": "#2a3f5f"
            },
            "type": "carpet"
           }
          ],
          "choropleth": [
           {
            "colorbar": {
             "outlinewidth": 0,
             "ticks": ""
            },
            "type": "choropleth"
           }
          ],
          "contour": [
           {
            "colorbar": {
             "outlinewidth": 0,
             "ticks": ""
            },
            "colorscale": [
             [
              0,
              "#0d0887"
             ],
             [
              0.1111111111111111,
              "#46039f"
             ],
             [
              0.2222222222222222,
              "#7201a8"
             ],
             [
              0.3333333333333333,
              "#9c179e"
             ],
             [
              0.4444444444444444,
              "#bd3786"
             ],
             [
              0.5555555555555556,
              "#d8576b"
             ],
             [
              0.6666666666666666,
              "#ed7953"
             ],
             [
              0.7777777777777778,
              "#fb9f3a"
             ],
             [
              0.8888888888888888,
              "#fdca26"
             ],
             [
              1,
              "#f0f921"
             ]
            ],
            "type": "contour"
           }
          ],
          "contourcarpet": [
           {
            "colorbar": {
             "outlinewidth": 0,
             "ticks": ""
            },
            "type": "contourcarpet"
           }
          ],
          "heatmap": [
           {
            "colorbar": {
             "outlinewidth": 0,
             "ticks": ""
            },
            "colorscale": [
             [
              0,
              "#0d0887"
             ],
             [
              0.1111111111111111,
              "#46039f"
             ],
             [
              0.2222222222222222,
              "#7201a8"
             ],
             [
              0.3333333333333333,
              "#9c179e"
             ],
             [
              0.4444444444444444,
              "#bd3786"
             ],
             [
              0.5555555555555556,
              "#d8576b"
             ],
             [
              0.6666666666666666,
              "#ed7953"
             ],
             [
              0.7777777777777778,
              "#fb9f3a"
             ],
             [
              0.8888888888888888,
              "#fdca26"
             ],
             [
              1,
              "#f0f921"
             ]
            ],
            "type": "heatmap"
           }
          ],
          "histogram": [
           {
            "marker": {
             "pattern": {
              "fillmode": "overlay",
              "size": 10,
              "solidity": 0.2
             }
            },
            "type": "histogram"
           }
          ],
          "histogram2d": [
           {
            "colorbar": {
             "outlinewidth": 0,
             "ticks": ""
            },
            "colorscale": [
             [
              0,
              "#0d0887"
             ],
             [
              0.1111111111111111,
              "#46039f"
             ],
             [
              0.2222222222222222,
              "#7201a8"
             ],
             [
              0.3333333333333333,
              "#9c179e"
             ],
             [
              0.4444444444444444,
              "#bd3786"
             ],
             [
              0.5555555555555556,
              "#d8576b"
             ],
             [
              0.6666666666666666,
              "#ed7953"
             ],
             [
              0.7777777777777778,
              "#fb9f3a"
             ],
             [
              0.8888888888888888,
              "#fdca26"
             ],
             [
              1,
              "#f0f921"
             ]
            ],
            "type": "histogram2d"
           }
          ],
          "histogram2dcontour": [
           {
            "colorbar": {
             "outlinewidth": 0,
             "ticks": ""
            },
            "colorscale": [
             [
              0,
              "#0d0887"
             ],
             [
              0.1111111111111111,
              "#46039f"
             ],
             [
              0.2222222222222222,
              "#7201a8"
             ],
             [
              0.3333333333333333,
              "#9c179e"
             ],
             [
              0.4444444444444444,
              "#bd3786"
             ],
             [
              0.5555555555555556,
              "#d8576b"
             ],
             [
              0.6666666666666666,
              "#ed7953"
             ],
             [
              0.7777777777777778,
              "#fb9f3a"
             ],
             [
              0.8888888888888888,
              "#fdca26"
             ],
             [
              1,
              "#f0f921"
             ]
            ],
            "type": "histogram2dcontour"
           }
          ],
          "mesh3d": [
           {
            "colorbar": {
             "outlinewidth": 0,
             "ticks": ""
            },
            "type": "mesh3d"
           }
          ],
          "parcoords": [
           {
            "line": {
             "colorbar": {
              "outlinewidth": 0,
              "ticks": ""
             }
            },
            "type": "parcoords"
           }
          ],
          "pie": [
           {
            "automargin": true,
            "type": "pie"
           }
          ],
          "scatter": [
           {
            "fillpattern": {
             "fillmode": "overlay",
             "size": 10,
             "solidity": 0.2
            },
            "type": "scatter"
           }
          ],
          "scatter3d": [
           {
            "line": {
             "colorbar": {
              "outlinewidth": 0,
              "ticks": ""
             }
            },
            "marker": {
             "colorbar": {
              "outlinewidth": 0,
              "ticks": ""
             }
            },
            "type": "scatter3d"
           }
          ],
          "scattercarpet": [
           {
            "marker": {
             "colorbar": {
              "outlinewidth": 0,
              "ticks": ""
             }
            },
            "type": "scattercarpet"
           }
          ],
          "scattergeo": [
           {
            "marker": {
             "colorbar": {
              "outlinewidth": 0,
              "ticks": ""
             }
            },
            "type": "scattergeo"
           }
          ],
          "scattergl": [
           {
            "marker": {
             "colorbar": {
              "outlinewidth": 0,
              "ticks": ""
             }
            },
            "type": "scattergl"
           }
          ],
          "scattermap": [
           {
            "marker": {
             "colorbar": {
              "outlinewidth": 0,
              "ticks": ""
             }
            },
            "type": "scattermap"
           }
          ],
          "scattermapbox": [
           {
            "marker": {
             "colorbar": {
              "outlinewidth": 0,
              "ticks": ""
             }
            },
            "type": "scattermapbox"
           }
          ],
          "scatterpolar": [
           {
            "marker": {
             "colorbar": {
              "outlinewidth": 0,
              "ticks": ""
             }
            },
            "type": "scatterpolar"
           }
          ],
          "scatterpolargl": [
           {
            "marker": {
             "colorbar": {
              "outlinewidth": 0,
              "ticks": ""
             }
            },
            "type": "scatterpolargl"
           }
          ],
          "scatterternary": [
           {
            "marker": {
             "colorbar": {
              "outlinewidth": 0,
              "ticks": ""
             }
            },
            "type": "scatterternary"
           }
          ],
          "surface": [
           {
            "colorbar": {
             "outlinewidth": 0,
             "ticks": ""
            },
            "colorscale": [
             [
              0,
              "#0d0887"
             ],
             [
              0.1111111111111111,
              "#46039f"
             ],
             [
              0.2222222222222222,
              "#7201a8"
             ],
             [
              0.3333333333333333,
              "#9c179e"
             ],
             [
              0.4444444444444444,
              "#bd3786"
             ],
             [
              0.5555555555555556,
              "#d8576b"
             ],
             [
              0.6666666666666666,
              "#ed7953"
             ],
             [
              0.7777777777777778,
              "#fb9f3a"
             ],
             [
              0.8888888888888888,
              "#fdca26"
             ],
             [
              1,
              "#f0f921"
             ]
            ],
            "type": "surface"
           }
          ],
          "table": [
           {
            "cells": {
             "fill": {
              "color": "#EBF0F8"
             },
             "line": {
              "color": "white"
             }
            },
            "header": {
             "fill": {
              "color": "#C8D4E3"
             },
             "line": {
              "color": "white"
             }
            },
            "type": "table"
           }
          ]
         },
         "layout": {
          "annotationdefaults": {
           "arrowcolor": "#2a3f5f",
           "arrowhead": 0,
           "arrowwidth": 1
          },
          "autotypenumbers": "strict",
          "coloraxis": {
           "colorbar": {
            "outlinewidth": 0,
            "ticks": ""
           }
          },
          "colorscale": {
           "diverging": [
            [
             0,
             "#8e0152"
            ],
            [
             0.1,
             "#c51b7d"
            ],
            [
             0.2,
             "#de77ae"
            ],
            [
             0.3,
             "#f1b6da"
            ],
            [
             0.4,
             "#fde0ef"
            ],
            [
             0.5,
             "#f7f7f7"
            ],
            [
             0.6,
             "#e6f5d0"
            ],
            [
             0.7,
             "#b8e186"
            ],
            [
             0.8,
             "#7fbc41"
            ],
            [
             0.9,
             "#4d9221"
            ],
            [
             1,
             "#276419"
            ]
           ],
           "sequential": [
            [
             0,
             "#0d0887"
            ],
            [
             0.1111111111111111,
             "#46039f"
            ],
            [
             0.2222222222222222,
             "#7201a8"
            ],
            [
             0.3333333333333333,
             "#9c179e"
            ],
            [
             0.4444444444444444,
             "#bd3786"
            ],
            [
             0.5555555555555556,
             "#d8576b"
            ],
            [
             0.6666666666666666,
             "#ed7953"
            ],
            [
             0.7777777777777778,
             "#fb9f3a"
            ],
            [
             0.8888888888888888,
             "#fdca26"
            ],
            [
             1,
             "#f0f921"
            ]
           ],
           "sequentialminus": [
            [
             0,
             "#0d0887"
            ],
            [
             0.1111111111111111,
             "#46039f"
            ],
            [
             0.2222222222222222,
             "#7201a8"
            ],
            [
             0.3333333333333333,
             "#9c179e"
            ],
            [
             0.4444444444444444,
             "#bd3786"
            ],
            [
             0.5555555555555556,
             "#d8576b"
            ],
            [
             0.6666666666666666,
             "#ed7953"
            ],
            [
             0.7777777777777778,
             "#fb9f3a"
            ],
            [
             0.8888888888888888,
             "#fdca26"
            ],
            [
             1,
             "#f0f921"
            ]
           ]
          },
          "colorway": [
           "#636efa",
           "#EF553B",
           "#00cc96",
           "#ab63fa",
           "#FFA15A",
           "#19d3f3",
           "#FF6692",
           "#B6E880",
           "#FF97FF",
           "#FECB52"
          ],
          "font": {
           "color": "#2a3f5f"
          },
          "geo": {
           "bgcolor": "white",
           "lakecolor": "white",
           "landcolor": "#E5ECF6",
           "showlakes": true,
           "showland": true,
           "subunitcolor": "white"
          },
          "hoverlabel": {
           "align": "left"
          },
          "hovermode": "closest",
          "mapbox": {
           "style": "light"
          },
          "paper_bgcolor": "white",
          "plot_bgcolor": "#E5ECF6",
          "polar": {
           "angularaxis": {
            "gridcolor": "white",
            "linecolor": "white",
            "ticks": ""
           },
           "bgcolor": "#E5ECF6",
           "radialaxis": {
            "gridcolor": "white",
            "linecolor": "white",
            "ticks": ""
           }
          },
          "scene": {
           "xaxis": {
            "backgroundcolor": "#E5ECF6",
            "gridcolor": "white",
            "gridwidth": 2,
            "linecolor": "white",
            "showbackground": true,
            "ticks": "",
            "zerolinecolor": "white"
           },
           "yaxis": {
            "backgroundcolor": "#E5ECF6",
            "gridcolor": "white",
            "gridwidth": 2,
            "linecolor": "white",
            "showbackground": true,
            "ticks": "",
            "zerolinecolor": "white"
           },
           "zaxis": {
            "backgroundcolor": "#E5ECF6",
            "gridcolor": "white",
            "gridwidth": 2,
            "linecolor": "white",
            "showbackground": true,
            "ticks": "",
            "zerolinecolor": "white"
           }
          },
          "shapedefaults": {
           "line": {
            "color": "#2a3f5f"
           }
          },
          "ternary": {
           "aaxis": {
            "gridcolor": "white",
            "linecolor": "white",
            "ticks": ""
           },
           "baxis": {
            "gridcolor": "white",
            "linecolor": "white",
            "ticks": ""
           },
           "bgcolor": "#E5ECF6",
           "caxis": {
            "gridcolor": "white",
            "linecolor": "white",
            "ticks": ""
           }
          },
          "title": {
           "x": 0.05
          },
          "xaxis": {
           "automargin": true,
           "gridcolor": "white",
           "linecolor": "white",
           "ticks": "",
           "title": {
            "standoff": 15
           },
           "zerolinecolor": "white",
           "zerolinewidth": 2
          },
          "yaxis": {
           "automargin": true,
           "gridcolor": "white",
           "linecolor": "white",
           "ticks": "",
           "title": {
            "standoff": 15
           },
           "zerolinecolor": "white",
           "zerolinewidth": 2
          }
         }
        },
        "title": {
         "text": "Impressions by Device"
        },
        "uniformtext": {
         "minsize": 12,
         "mode": "hide"
        }
       }
      }
     },
     "metadata": {},
     "output_type": "display_data"
    },
    {
     "name": "stdout",
     "output_type": "stream",
     "text": [
      "Saved to Output\\13_GSC_Impressions_By_Device.png\n"
     ]
    }
   ],
   "source": [
    "def plot_impressions_by_device(output_folder=\".\", save_charts=False):\n",
    "\n",
    "    # Process\n",
    "    fig = px.pie(\n",
    "        df_devices,\n",
    "        names=\"Device\",\n",
    "        values=\"Impressions\",\n",
    "        title=\"Impressions by Device\",\n",
    "        hole=0, \n",
    "    )\n",
    "    \n",
    "    fig.update_traces(\n",
    "        textinfo='value',  \n",
    "        textposition='inside',\n",
    "        pull=[0.05]*len(df_devices),  \n",
    "        insidetextorientation='auto',\n",
    "        showlegend=True\n",
    "    )\n",
    "\n",
    "    fig.update_layout(\n",
    "        uniformtext_minsize=12,\n",
    "        uniformtext_mode='hide',\n",
    "        legend_title_text=\"Device\",\n",
    "    )\n",
    "\n",
    "    # Print Results\n",
    "    fig.show()\n",
    "\n",
    "    # Save Chart\n",
    "    if save_charts:\n",
    "        os.makedirs(output_folder, exist_ok=True)\n",
    "        file_path = os.path.join(output_folder, \"13_GSC_Impressions_By_Device.png\")\n",
    "        fig.write_image(file_path)\n",
    "        print(f\"Saved to {file_path}\")\n",
    "\n",
    "plot_impressions_by_device(output_folder=\"Output\", save_charts=True)\n",
    "\n",
    "# Process Powerpoint\n",
    "slide11 = ppt.slides[10]\n",
    "for shape in slide11.shapes:\n",
    "    if not shape.has_text_frame:\n",
    "        continue\n",
    "    for paragraph in shape.text_frame.paragraphs:\n",
    "        for run in paragraph.runs:\n",
    "            if \"Website\" in run.text:\n",
    "                text = run.text\n",
    "                text = text.replace(\"Website\", ppt_website)\n",
    "                run.text = text\n",
    "image_path = os.path.join(output_folder, \"13_GSC_Impressions_By_Device.png\")\n",
    "left = Inches(1)  \n",
    "top = Inches(1.5)    \n",
    "width = Inches(6) \n",
    "height = Inches(4)\n",
    "for shape in list(slide11.shapes):\n",
    "    if shape.shape_type == MSO_SHAPE_TYPE.PICTURE:\n",
    "        slide11.shapes._spTree.remove(shape._element)\n",
    "pic = slide11.shapes.add_picture(image_path, left, top, width=width, height=height)"
   ]
  },
  {
   "cell_type": "markdown",
   "id": "31b7d7f8-0a58-496a-a5ba-bd89f7d5d263",
   "metadata": {},
   "source": [
    "## Process 2: Ahrefs"
   ]
  },
  {
   "cell_type": "markdown",
   "id": "eb9d3a55-fbba-4a2d-bd72-a2dc8d5018ac",
   "metadata": {},
   "source": [
    "### Process 2A (Output 1): Number of Organic Keywords"
   ]
  },
  {
   "cell_type": "code",
   "execution_count": 52,
   "id": "d9abcb49-a5a3-4ad6-b1ce-9708a551a6b1",
   "metadata": {},
   "outputs": [
    {
     "name": "stdout",
     "output_type": "stream",
     "text": [
      "Total Number of Keywords: 42\n",
      "Saved to Output/14_AHREFS_A_Total_Number_Of_Keywords.txt\n"
     ]
    }
   ],
   "source": [
    "# Process\n",
    "total_number_of_keywords = ah_keywords.shape[0]\n",
    "\n",
    "# Print Results\n",
    "print(f\"Total Number of Keywords: {total_number_of_keywords}\")\n",
    "\n",
    "# Save to TXT\n",
    "if save_csv_files:\n",
    "    os.makedirs(output_folder, exist_ok=True)\n",
    "    with open(f'{output_folder}/14_AHREFS_Total_Number_Of_Keywords.txt', 'w') as f:\n",
    "        f.write(f\"Total Number of Keywords: {total_number_of_keywords}\\n\")\n",
    "    print(f\"Saved to {output_folder}/14_AHREFS_A_Total_Number_Of_Keywords.txt\")\\\n",
    "    \n",
    "# Process Powerpoint\n",
    "slide13 = ppt.slides[12]\n",
    "for shape in slide13.shapes:\n",
    "    if not shape.has_text_frame:\n",
    "        continue\n",
    "    for paragraph in shape.text_frame.paragraphs:\n",
    "        for run in paragraph.runs:\n",
    "            if \"Website\" in run.text:\n",
    "                text = run.text\n",
    "                text = text.replace(\"Website\", ppt_website)\n",
    "                run.text = text"
   ]
  },
  {
   "cell_type": "markdown",
   "id": "1a04a236-2f0f-4d16-9337-5ec021e83385",
   "metadata": {},
   "source": [
    "### Process 2A (Output 2 - 4): Number of Keywords in positions 1-10, 11-20, and 21-100"
   ]
  },
  {
   "cell_type": "code",
   "execution_count": 53,
   "id": "85b28192-e54c-4969-a6be-6b7a9cfc7164",
   "metadata": {},
   "outputs": [
    {
     "name": "stdout",
     "output_type": "stream",
     "text": [
      "\n",
      "Keywords in Position Range: Top 1 To 10\n",
      "0\n",
      "\n",
      "Keywords in Position Range: Pos 11 To 20\n",
      "3\n",
      "\n",
      "Keywords in Position Range: Pos 21 To 100\n",
      "34\n",
      "Saved to Output/15_AHREFS_Rank_1_to_10_Keywords.csv\n",
      "Saved to Output/16_AHREFS_Rank_11_to_20_Keywords.csv\n",
      "Saved to Output/17_AHREFS_Rank_21_to_100_Keywords.csv\n"
     ]
    }
   ],
   "source": [
    "# Process\n",
    "def categorize_by_position(ah_keywords, top_ten=False, top_twenty=False, top_one_hundred=False):\n",
    "    result = {}\n",
    "\n",
    "    ah_keywords = ah_keywords.rename(columns={\"Current average position\": \"Position\"})\n",
    "\n",
    "    if top_ten:\n",
    "        result['top_1_to_10'] = ah_keywords[(ah_keywords['Position'] >= 1) & (ah_keywords['Position'] <= 10)]\n",
    "\n",
    "    if top_twenty:\n",
    "        result['pos_11_to_20'] = ah_keywords[(ah_keywords['Position'] > 10) & (ah_keywords['Position'] <= 20)]\n",
    "\n",
    "    if top_one_hundred:\n",
    "        result['pos_21_to_100'] = ah_keywords[(ah_keywords['Position'] > 20) & (ah_keywords['Position'] <= 100)]\n",
    "\n",
    "    return result\n",
    "\n",
    "a_categories = categorize_by_position(ah_keywords, top_ten=True, top_twenty=True, top_one_hundred=True)\n",
    "\n",
    "# Print Results\n",
    "for label, data in a_categories.items():\n",
    "    print(f\"\\nKeywords in Position Range: {label.replace('_', ' ').title()}\")\n",
    "    print(data.shape[0])\n",
    "\n",
    "# Save to CSV\n",
    "if save_csv_files:\n",
    "    os.makedirs(output_folder, exist_ok=True) \n",
    "    a_categories['top_1_to_10'].to_csv(f'{output_folder}/15_AHREFS_Rank_1_to_10_Keywords.csv', index=False)\n",
    "    print(f\"Saved to {output_folder}/15_AHREFS_Rank_1_to_10_Keywords.csv\")\n",
    "    a_categories['pos_11_to_20'].to_csv(f'{output_folder}/16_AHREFS_Rank_11_to_20_Keywords.csv', index=False)\n",
    "    print(f\"Saved to {output_folder}/16_AHREFS_Rank_11_to_20_Keywords.csv\")\n",
    "    a_categories['pos_21_to_100'].to_csv(f'{output_folder}/17_AHREFS_Rank_21_to_100_Keywords.csv', index=False)\n",
    "    print(f\"Saved to {output_folder}/17_AHREFS_Rank_21_to_100_Keywords.csv\")\n",
    "\n",
    "# Process Powerpoint\n",
    "replacements = {\n",
    "    \"Website\": ppt_website,\n",
    "    \"ah_org_key\": str(total_number_of_keywords),\n",
    "    \"Ah_top_ten\": str(a_categories['top_1_to_10'].shape[0]),\n",
    "    \"Ah_top_20\": str(a_categories['pos_11_to_20'].shape[0]),\n",
    "    \"Ah_top_100\": str(a_categories['pos_21_to_100'].shape[0]),\n",
    "    \"Ah_new\": \"\",\n",
    "    \"Ah_lost\": \"\",\n",
    "}"
   ]
  },
  {
   "cell_type": "markdown",
   "id": "c1760bb5-8e43-42aa-a8e1-202ee3237157",
   "metadata": {},
   "source": [
    "### Process 2A (Output 5-6): Number of new and lost keywords"
   ]
  },
  {
   "cell_type": "code",
   "execution_count": 54,
   "id": "b35dba6a-3d99-4593-b20c-8e34ad8f8fff",
   "metadata": {},
   "outputs": [
    {
     "name": "stdout",
     "output_type": "stream",
     "text": [
      "\n",
      "Keywords categorized as: New Keywords\n",
      "3\n",
      "\n",
      "Keywords categorized as: Lost Keywords\n",
      "5\n",
      "Saved to Output/18_AHREFS_New_Keywords.csv\n",
      "Saved to Output/19_AHREFS_Lost_Keywords.csv\n"
     ]
    }
   ],
   "source": [
    "# Process\n",
    "def categorize_keyword_status(ah_keywords, new_keywords=False, lost_keywords=False):\n",
    "    result = {}\n",
    "\n",
    "    if new_keywords:\n",
    "        result['new_keywords'] = ah_keywords[\n",
    "            ah_keywords['Previous average position'].isna() & ah_keywords['Current average position'].notna()\n",
    "        ]\n",
    "\n",
    "    if lost_keywords:\n",
    "        result['lost_keywords'] = ah_keywords[\n",
    "            ah_keywords['Previous average position'].notna() & ah_keywords['Current average position'].isna()\n",
    "        ]\n",
    "\n",
    "    return result\n",
    "\n",
    "status_categories = categorize_keyword_status(ah_keywords, new_keywords=True, lost_keywords=True)\n",
    "\n",
    "# Print Results\n",
    "for label, data in status_categories.items():\n",
    "    print(f\"\\nKeywords categorized as: {label.replace('_', ' ').title()}\")\n",
    "    print(data.shape[0])\n",
    "\n",
    "# Save to CSV\n",
    "if save_csv_files:\n",
    "    os.makedirs(output_folder, exist_ok=True)\n",
    "    status_categories['new_keywords'].to_csv(f\"{output_folder}/18_AHREFS_New_Keywords.csv\", index=False)\n",
    "    print(f\"Saved to {output_folder}/18_AHREFS_New_Keywords.csv\")\n",
    "    status_categories['lost_keywords'].to_csv(f\"{output_folder}/19_AHREFS_Lost_Keywords.csv\", index=False)\n",
    "    print(f\"Saved to {output_folder}/19_AHREFS_Lost_Keywords.csv\")\n",
    "    \n",
    "# Process Powerpoint\n",
    "slide14 = ppt.slides[13]\n",
    "for shape in slide14.shapes:\n",
    "    if not shape.has_text_frame:\n",
    "        continue\n",
    "    for paragraph in shape.text_frame.paragraphs:\n",
    "        for run in paragraph.runs:\n",
    "            if \"Website\" in run.text:\n",
    "                text = run.text\n",
    "                text = text.replace(\"Website\", ppt_website)\n",
    "                run.text = text\n",
    "replacements = {\n",
    "    \"Website\": ppt_website,\n",
    "    \"ah_org_key\": str(total_number_of_keywords),\n",
    "    \"Top10ahrefs\": str(a_categories['top_1_to_10'].shape[0]),\n",
    "    \"Ah_top_20\": str(a_categories['pos_11_to_20'].shape[0]),\n",
    "    \"Ah_top_100\": str(a_categories['pos_21_to_100'].shape[0]),\n",
    "    \"Ah_new\": str(status_categories['new_keywords'].shape[0]),\n",
    "    \"Ah_lost\": str(status_categories['lost_keywords'].shape[0]),\n",
    "}\n",
    "for shape in slide14.shapes:\n",
    "    if not shape.has_text_frame:\n",
    "        continue\n",
    "    for paragraph in shape.text_frame.paragraphs:\n",
    "        for run in paragraph.runs:\n",
    "            for key, value in replacements.items():\n",
    "                if key in run.text:\n",
    "                    run.text = run.text.replace(key, value)"
   ]
  },
  {
   "cell_type": "markdown",
   "id": "1922ab02-b14e-4544-9983-98f0e5c1b4ff",
   "metadata": {},
   "source": [
    "### Process 2A (Outputs 7-9): Number of Keywords that increased, decreased, and stayed in positions"
   ]
  },
  {
   "cell_type": "code",
   "execution_count": 55,
   "id": "51677ebe-fffa-4633-a8ed-3ad9d8ad7879",
   "metadata": {},
   "outputs": [
    {
     "name": "stdout",
     "output_type": "stream",
     "text": [
      "\n",
      "Keywords with Position Change: Position Increased\n",
      "17\n",
      "\n",
      "Keywords with Position Change: Position Decreased\n",
      "7\n",
      "\n",
      "Keywords with Position Change: Position Unchanged\n",
      "10\n",
      "Saved to Output/20_AHREFS_Position_Increased_Keywords.csv\n",
      "Saved to Output/21_AHREFS_Position_Decreased_Keywords.csv\n",
      "Saved to Output/22_AHREFS_Position_Unchanged_Keywords.csv\n"
     ]
    }
   ],
   "source": [
    "# Process\n",
    "def categorize_by_position_change(ah_keywords, increased=False, decreased=False, no_movement=False):\n",
    "    result = {}\n",
    "\n",
    "    if increased:\n",
    "        result['position_increased'] = ah_keywords[ah_keywords['Position change'] > 0]\n",
    "\n",
    "    if decreased:\n",
    "        result['position_decreased'] = ah_keywords[ah_keywords['Position change'] < 0]\n",
    "\n",
    "    if no_movement:\n",
    "        result['position_unchanged'] = ah_keywords[\n",
    "            (ah_keywords['Position change'] == 0) &\n",
    "            (ah_keywords['Previous average position'].notna()) & (ah_keywords['Previous average position'] != 0) &\n",
    "            (ah_keywords['Current average position'].notna()) & (ah_keywords['Current average position'] != 0)\n",
    "        ]\n",
    "\n",
    "    return result\n",
    "\n",
    "movement_categories = categorize_by_position_change(\n",
    "    ah_keywords,\n",
    "    increased=True,\n",
    "    decreased=True,\n",
    "    no_movement=True\n",
    ")\n",
    "\n",
    "# Print Results\n",
    "for label, data in movement_categories.items():\n",
    "    print(f\"\\nKeywords with Position Change: {label.replace('_', ' ').title()}\")\n",
    "    print(data.shape[0])\n",
    "\n",
    "# Save to CSV\n",
    "if save_csv_files:\n",
    "    os.makedirs(output_folder, exist_ok=True)\n",
    "    movement_categories['position_increased'].to_csv(f\"{output_folder}/20_AHREFS_Position_Increased_Keywords.csv\", index=False)\n",
    "    print(f\"Saved to {output_folder}/20_AHREFS_Position_Increased_Keywords.csv\")\n",
    "    movement_categories['position_decreased'].to_csv(f\"{output_folder}/21_AHREFS_Position_Decreased_Keywords.csv\", index=False)\n",
    "    print(f\"Saved to {output_folder}/21_AHREFS_Position_Decreased_Keywords.csv\")\n",
    "    movement_categories['position_unchanged'].to_csv(f\"{output_folder}/22_AHREFS_Position_Unchanged_Keywords.csv\", index=False)\n",
    "    print(f\"Saved to {output_folder}/22_AHREFS_Position_Unchanged_Keywords.csv\")\n",
    "\n",
    "# Process Powerpoint\n",
    "slide15 = ppt.slides[14]\n",
    "for shape in slide15.shapes:\n",
    "    if not shape.has_text_frame:\n",
    "        continue\n",
    "    for paragraph in shape.text_frame.paragraphs:\n",
    "        for run in paragraph.runs:\n",
    "            if \"Website\" in run.text:\n",
    "                text = run.text\n",
    "                text = text.replace(\"Website\", ppt_website)\n",
    "                run.text = text\n",
    "this_replacements = {\n",
    "    \"Website\": ppt_website,\n",
    "    \"Ah_improved_keys\": str(movement_categories['position_increased'].shape[0]),\n",
    "    \"Ah_decreased_keys\": str(movement_categories['position_decreased'].shape[0]),\n",
    "    \"Ah_no_movement_keys\": str(movement_categories['position_unchanged'].shape[0])\n",
    "}\n",
    "for shape in slide15.shapes:\n",
    "    if not shape.has_text_frame:\n",
    "        continue\n",
    "    for paragraph in shape.text_frame.paragraphs:\n",
    "        for run in paragraph.runs:\n",
    "            for key, value in this_replacements.items():\n",
    "                if key in run.text:\n",
    "                    run.text = run.text.replace(key, value)"
   ]
  },
  {
   "cell_type": "markdown",
   "id": "3258737b-6f75-48c5-8a2d-3baf90016e6a",
   "metadata": {},
   "source": [
    "### Process 2A (Outputs 10-11): Top 5 and Bottom 5 keywords that increased/decreased the most"
   ]
  },
  {
   "cell_type": "code",
   "execution_count": 56,
   "id": "be615566-507a-4593-9cbc-a2d9b0d818c1",
   "metadata": {},
   "outputs": [
    {
     "name": "stdout",
     "output_type": "stream",
     "text": [
      "\n",
      "Top Increases:\n",
      "                               Keyword  Position change\n",
      "36          christmas tree stand water             27.0\n",
      "23                      merry mountain             19.0\n",
      "22                 christmas tree mats             19.0\n",
      "32       waterproof christmas tree mat             18.0\n",
      "30  self watering christmas tree stand             17.0\n",
      "\n",
      "Top Drops:\n",
      "                            Keyword  Position change\n",
      "39             best real tree stand            -19.0\n",
      "2   top rated christmas tree stands             -8.0\n",
      "8                     xmas tree mat             -7.0\n",
      "27   best real christmas tree stand             -7.0\n",
      "5                christmas tree pad             -6.0\n",
      "Saved to Output/23_AHREFS_Top_5_Position_Increase.csv\n",
      "Saved to Output/24_AHREFS_Top_5_Position_Decrease.csv\n"
     ]
    }
   ],
   "source": [
    "# Process\n",
    "def get_top_position_changes(ah_keywords, top_increases=False, top_drops=False, top_n=5):\n",
    "    result = {}\n",
    "\n",
    "    if top_increases:\n",
    "        result['top_increases'] = ah_keywords[ah_keywords['Position change'] > 0].sort_values(\n",
    "            by='Position change', ascending=False\n",
    "        ).head(top_n)\n",
    "\n",
    "    if top_drops:\n",
    "        result['top_drops'] = ah_keywords[ah_keywords['Position change'] < 0].sort_values(\n",
    "            by='Position change', ascending=True\n",
    "        ).head(top_n)\n",
    "\n",
    "    return result\n",
    "\n",
    "top_changes = get_top_position_changes(\n",
    "    ah_keywords,\n",
    "    top_increases=True,\n",
    "    top_drops=True,\n",
    "    top_n=5\n",
    ")\n",
    "\n",
    "# Print Results\n",
    "for label, data in top_changes.items():\n",
    "    print(f\"\\n{label.replace('_', ' ').title()}:\")\n",
    "    print(data[['Keyword', 'Position change']])\n",
    "\n",
    "# Save to CSV\n",
    "if save_csv_files:\n",
    "    os.makedirs(output_folder, exist_ok=True)\n",
    "    top_changes['top_increases'].to_csv(f\"{output_folder}/23_AHREFS_Top_5_Position_Increase.csv\", index=False)\n",
    "    print(f\"Saved to {output_folder}/23_AHREFS_Top_5_Position_Increase.csv\")\n",
    "    top_changes['top_drops'].to_csv(f\"{output_folder}/24_AHREFS_Top_5_Position_Decrease.csv\", index=False)\n",
    "    print(f\"Saved to {output_folder}/24_AHREFS_Top_5_Position_Decrease.csv\")\n",
    "\n",
    "# Process Powerpoint\n",
    "slide16 = ppt.slides[15]\n",
    "for shape in slide16.shapes:\n",
    "    if not shape.has_text_frame:\n",
    "        continue\n",
    "    for paragraph in shape.text_frame.paragraphs:\n",
    "        for run in paragraph.runs:\n",
    "            if \"Website\" in run.text:\n",
    "                text = run.text\n",
    "                text = text.replace(\"Website\", ppt_website)\n",
    "                run.text = text\n",
    "                \n",
    "left = Inches(0.5)\n",
    "top = Inches(2)\n",
    "rows = top_changes['top_increases'].shape[0] + 1\n",
    "cols = 4\n",
    "for shape in list(slide16.shapes):\n",
    "    if shape.shape_type == 19:  # 19 is for table shapes\n",
    "        slide16.shapes._spTree.remove(shape._element)\n",
    "table_shape = slide16.shapes.add_table(rows,cols,left,top,Inches(9),Inches(0.8+0.3*rows))\n",
    "table = table_shape.table\n",
    "column_widths = {\n",
    "    0: 2000000,  # Keyword\n",
    "    1: 1500000,  # Volume\n",
    "    2: 2000000,  # Current avg position\n",
    "    3: 2000000,  # Position change\n",
    "}\n",
    "for col_idx, width in column_widths.items():\n",
    "    table.columns[col_idx].width = width\n",
    "headers = [\"Keyword\", \"Volume\", \"Current average position\", \"Position change\"]\n",
    "for col_idx, header in enumerate(headers):\n",
    "    cell = table.cell(0, col_idx)\n",
    "    cell.text = header\n",
    "    for paragraph in cell.text_frame.paragraphs:\n",
    "        for run in paragraph.runs:\n",
    "            run.font.bold = True\n",
    "            run.font.size = Pt(10)\n",
    "for row_idx, (_, row_data) in enumerate(top_changes['top_increases'][headers].dropna().iterrows()):\n",
    "    for col_idx, col_name in enumerate(headers):\n",
    "        try:\n",
    "            cell = table.cell(row_idx + 1, col_idx)\n",
    "            cell.text = str(row_data[col_name])\n",
    "            for paragraph in cell.text_frame.paragraphs:\n",
    "                for run in paragraph.runs:\n",
    "                    run.font.size = Pt(10)\n",
    "        except IndexError:\n",
    "            print(f\"Skipped row {row_idx}, column {col_idx} due to table size mismatch.\")\n",
    "\n",
    "slide17 = ppt.slides[16]\n",
    "for shape in slide17.shapes:\n",
    "    if not shape.has_text_frame:\n",
    "        continue\n",
    "    for paragraph in shape.text_frame.paragraphs:\n",
    "        for run in paragraph.runs:\n",
    "            if \"Website\" in run.text:\n",
    "                text = run.text\n",
    "                text = text.replace(\"Website\", ppt_website)\n",
    "                run.text = text\n",
    "                \n",
    "left = Inches(0.5)\n",
    "top = Inches(2)\n",
    "rows = top_changes['top_drops'].shape[0] + 1\n",
    "cols = 4\n",
    "for shape in list(slide17.shapes):\n",
    "    if shape.shape_type == 19:  # 19 is for table shapes\n",
    "        slide17.shapes._spTree.remove(shape._element)\n",
    "table_shape = slide17.shapes.add_table(rows,cols,left,top,Inches(9),Inches(0.8+0.3*rows))\n",
    "table = table_shape.table\n",
    "column_widths = {\n",
    "    0: 2000000,  # Keyword\n",
    "    1: 1500000,  # Volume\n",
    "    2: 2000000,  # Current avg position\n",
    "    3: 2000000,  # Position change\n",
    "}\n",
    "for col_idx, width in column_widths.items():\n",
    "    table.columns[col_idx].width = width\n",
    "headers = [\"Keyword\", \"Volume\", \"Current average position\", \"Position change\"]\n",
    "for col_idx, header in enumerate(headers):\n",
    "    cell = table.cell(0, col_idx)\n",
    "    cell.text = header\n",
    "    for paragraph in cell.text_frame.paragraphs:\n",
    "        for run in paragraph.runs:\n",
    "            run.font.bold = True\n",
    "            run.font.size = Pt(10)\n",
    "for row_idx, (_, row_data) in enumerate(top_changes['top_drops'][headers].dropna().iterrows()):\n",
    "    for col_idx, col_name in enumerate(headers):\n",
    "        try:\n",
    "            cell = table.cell(row_idx + 1, col_idx)\n",
    "            cell.text = str(row_data[col_name])\n",
    "            for paragraph in cell.text_frame.paragraphs:\n",
    "                for run in paragraph.runs:\n",
    "                    run.font.size = Pt(10)\n",
    "        except IndexError:\n",
    "            print(f\"Skipped row {row_idx}, column {col_idx} due to table size mismatch.\")"
   ]
  },
  {
   "cell_type": "markdown",
   "id": "ea2bba96-f937-4b00-aed5-cab8bb106c2e",
   "metadata": {},
   "source": [
    "### Process 2B (Outputs 1-2) Top performing pages"
   ]
  },
  {
   "cell_type": "code",
   "execution_count": 57,
   "id": "42a08c9c-e260-4234-96ac-1e28a954d38c",
   "metadata": {},
   "outputs": [
    {
     "name": "stdout",
     "output_type": "stream",
     "text": [
      "Top Performing Page:\n",
      "                                                 URL Status  Previous traffic  \\\n",
      "0  https://merrymount.co/products/reversible-chri...    NaN                 1   \n",
      "\n",
      "   Current traffic  Traffic change  Previous traffic value  \\\n",
      "0              2.0             1.0                    0.07   \n",
      "\n",
      "   Current traffic value  Traffic value change  Previous # of keywords  \\\n",
      "0                   0.32                  0.25                      16   \n",
      "\n",
      "   Current # of keywords  Keywords change            Previous top keyword  \\\n",
      "0                   15.0               -1  christmas tree floor protector   \n",
      "\n",
      "  Current top keyword Previous top keyword: Country  \\\n",
      "0  christmas tree mat                 United States   \n",
      "\n",
      "  Current top keyword: Country  Previous top keyword: Volume  \\\n",
      "0                       Canada                           100   \n",
      "\n",
      "   Current top keyword: Volume  Previous top keyword: Position  \\\n",
      "0                        100.0                              21   \n",
      "\n",
      "   Current top keyword: Position  Top keyword: Position change  \n",
      "0                           12.0                           NaN  \n",
      "\n",
      "Top 5 Performing Pages:\n",
      "                                                 URL Status  Previous traffic  \\\n",
      "0  https://merrymount.co/products/reversible-chri...    NaN                 1   \n",
      "1  https://merrymount.co/blogs/merry-mount-blog/t...    NaN                 0   \n",
      "2              https://merrymount.co/collections/all    NaN                 0   \n",
      "3  https://merrymount.co/products/automatic-chris...    NaN                 1   \n",
      "4              https://merrymount.co/pages/our-story   Lost                 0   \n",
      "\n",
      "   Current traffic  Traffic change  Previous traffic value  \\\n",
      "0              2.0             1.0                    0.07   \n",
      "1              0.0             NaN                    0.05   \n",
      "2              0.0             NaN                    0.00   \n",
      "3              0.0            -1.0                    0.01   \n",
      "4              NaN             NaN                    0.00   \n",
      "\n",
      "   Current traffic value  Traffic value change  Previous # of keywords  \\\n",
      "0                   0.32                  0.25                      16   \n",
      "1                   0.03                 -0.02                      12   \n",
      "2                    NaN                  0.00                       3   \n",
      "3                   0.01                   NaN                       8   \n",
      "4                    NaN                  0.00                       1   \n",
      "\n",
      "   Current # of keywords  Keywords change            Previous top keyword  \\\n",
      "0                   15.0               -1  christmas tree floor protector   \n",
      "1                   14.0                2       top christmas tree stands   \n",
      "2                    1.0               -2                  merry mountain   \n",
      "3                    7.0               -1             auto christmas tree   \n",
      "4                    NaN               -1                      merrymount   \n",
      "\n",
      "               Current top keyword Previous top keyword: Country  \\\n",
      "0               christmas tree mat                 United States   \n",
      "1  top rated christmas tree stands                 United States   \n",
      "2                   merry mountain                 United States   \n",
      "3              auto christmas tree                 United States   \n",
      "4                              NaN                 United States   \n",
      "\n",
      "  Current top keyword: Country  Previous top keyword: Volume  \\\n",
      "0                       Canada                           100   \n",
      "1                United States                            50   \n",
      "2                United States                            20   \n",
      "3                United States                            80   \n",
      "4                          NaN                           100   \n",
      "\n",
      "   Current top keyword: Volume  Previous top keyword: Position  \\\n",
      "0                        100.0                              21   \n",
      "1                         50.0                              20   \n",
      "2                         20.0                              19   \n",
      "3                         80.0                              17   \n",
      "4                          NaN                              46   \n",
      "\n",
      "   Current top keyword: Position  Top keyword: Position change  \n",
      "0                           12.0                           NaN  \n",
      "1                           21.0                           NaN  \n",
      "2                           38.0                         -19.0  \n",
      "3                           24.0                          -7.0  \n",
      "4                            NaN                           NaN  \n",
      "\n",
      "Saved to Output/25_AHREFS_top_performing_page.csv\n",
      "Saved to Output/26_AHREFS_top_5_performing_pages.csv\n"
     ]
    }
   ],
   "source": [
    "def a_extract_top_performing_pages(\n",
    "    output_folder,\n",
    "    a_top_5_best_performing_pages=False,\n",
    "    save_csv_files=False\n",
    "):\n",
    "\n",
    "    # Process\n",
    "    a_top_page = ah_pages.head(1)\n",
    "    a_top_5_pages = ah_pages.head(5) if a_top_5_best_performing_pages else None\n",
    "\n",
    "    # Print Results\n",
    "    print(\"Top Performing Page:\")\n",
    "    print(a_top_page)\n",
    "    \n",
    "    if a_top_5_best_performing_pages:\n",
    "        print(\"\\nTop 5 Performing Pages:\")\n",
    "        print(a_top_5_pages)\n",
    "\n",
    "    # Save to CSV\n",
    "    if save_csv_files:\n",
    "        os.makedirs(output_folder, exist_ok=True)  \n",
    "        a_top_page.to_csv(f\"{output_folder}/25_AHREFS_top_performing_page.csv\", index=False)\n",
    "        print(f\"\\nSaved to {output_folder}/25_AHREFS_top_performing_page.csv\")\n",
    "\n",
    "        if a_top_5_best_performing_pages:\n",
    "            a_top_5_pages.to_csv(f\"{output_folder}/26_AHREFS_top_5_performing_pages.csv\", index=False)\n",
    "            print(f\"Saved to {output_folder}/26_AHREFS_top_5_performing_pages.csv\")\n",
    "\n",
    "    return a_top_page, a_top_5_pages\n",
    "\n",
    "a_top_page, a_top_5_pages = a_extract_top_performing_pages(output_folder, top_5_best_performing_pages, save_csv_files)\n",
    "\n",
    "# Process Powerpoint\n",
    "a_top_page_ppt = a_top_page.iloc[0]\n",
    "replacements = {\n",
    "    \"Website\": ppt_website,\n",
    "    \"toppageurl\": str(a_top_page_ppt['URL']).rsplit('/', 1)[-1],\n",
    "    \"numberofkeywords\": str(a_top_page_ppt['Current # of keywords']),\n",
    "    \"toppagetraffic\": str(a_top_page_ppt['Current traffic']),\n",
    "}\n",
    "\n",
    "slide18 = ppt.slides[17]\n",
    "for shape in slide18.shapes:\n",
    "    if not shape.has_text_frame:\n",
    "        continue\n",
    "    for paragraph in shape.text_frame.paragraphs:\n",
    "        for run in paragraph.runs:\n",
    "            for key, value in replacements.items():\n",
    "                if key in run.text:\n",
    "                    run.text = run.text.replace(key, value)\n",
    "\n",
    "left = Inches(0.5)\n",
    "top = Inches(2.8)\n",
    "rows = a_top_5_pages.shape[0] + 1\n",
    "cols = 3\n",
    "for shape in list(slide18.shapes):\n",
    "    if shape.shape_type == 19:  # 19 is for table shapes\n",
    "        slide18.shapes._spTree.remove(shape._element)\n",
    "table_shape = slide18.shapes.add_table(rows,cols,left,top,Inches(9),Inches(0.8+0.3*rows))\n",
    "table = table_shape.table\n",
    "column_widths = {\n",
    "    0: 5000000,  # URL\n",
    "    1: 1200000,  # Current Traffic\n",
    "    2: 1200000,  # Current # of keywords\n",
    "}\n",
    "for col_idx, width in column_widths.items():\n",
    "    table.columns[col_idx].width = width\n",
    "headers = [\"URL\", \"Current traffic\", \"Current # of keywords\"]\n",
    "for col_idx, header in enumerate(headers):\n",
    "    cell = table.cell(0, col_idx)\n",
    "    cell.text = header\n",
    "    for paragraph in cell.text_frame.paragraphs:\n",
    "        for run in paragraph.runs:\n",
    "            run.font.bold = True\n",
    "            run.font.size = Pt(10)\n",
    "for row_idx, (_, row_data) in enumerate(a_top_5_pages[headers].dropna().iterrows()):\n",
    "    for col_idx, col_name in enumerate(headers):\n",
    "        try:\n",
    "            cell = table.cell(row_idx + 1, col_idx)\n",
    "            cell.text = str(row_data[col_name])\n",
    "            for paragraph in cell.text_frame.paragraphs:\n",
    "                for run in paragraph.runs:\n",
    "                    run.font.size = Pt(10)\n",
    "        except IndexError:\n",
    "            print(f\"Skipped row {row_idx}, column {col_idx} due to table size mismatch.\")"
   ]
  },
  {
   "cell_type": "markdown",
   "id": "59711521-cdaa-40be-bc0f-fb9afe719081",
   "metadata": {},
   "source": [
    "### Process 2B (Outputs 3-4) Underperforming pages"
   ]
  },
  {
   "cell_type": "code",
   "execution_count": 58,
   "id": "0075e581-d1d8-4f7e-9a0d-a265a568999b",
   "metadata": {},
   "outputs": [
    {
     "name": "stdout",
     "output_type": "stream",
     "text": [
      "Worst Performing Page:\n",
      "                                          URL Status  Previous traffic  \\\n",
      "5  https://merrymount.co/pages/mission-values   Lost                 0   \n",
      "\n",
      "   Current traffic  Traffic change  Previous traffic value  \\\n",
      "5              NaN             NaN                     NaN   \n",
      "\n",
      "   Current traffic value  Traffic value change  Previous # of keywords  \\\n",
      "5                    NaN                   NaN                       1   \n",
      "\n",
      "   Current # of keywords  Keywords change Previous top keyword  \\\n",
      "5                    NaN               -1          merry mount   \n",
      "\n",
      "  Current top keyword Previous top keyword: Country  \\\n",
      "5                 NaN                 United States   \n",
      "\n",
      "  Current top keyword: Country  Previous top keyword: Volume  \\\n",
      "5                          NaN                            40   \n",
      "\n",
      "   Current top keyword: Volume  Previous top keyword: Position  \\\n",
      "5                          NaN                              73   \n",
      "\n",
      "   Current top keyword: Position  Top keyword: Position change  \n",
      "5                            NaN                           NaN  \n",
      "\n",
      "Bottom 5 Performing Pages:\n",
      "                                                 URL Status  Previous traffic  \\\n",
      "1  https://merrymount.co/blogs/merry-mount-blog/t...    NaN                 0   \n",
      "2              https://merrymount.co/collections/all    NaN                 0   \n",
      "3  https://merrymount.co/products/automatic-chris...    NaN                 1   \n",
      "4              https://merrymount.co/pages/our-story   Lost                 0   \n",
      "5         https://merrymount.co/pages/mission-values   Lost                 0   \n",
      "\n",
      "   Current traffic  Traffic change  Previous traffic value  \\\n",
      "1              0.0             NaN                    0.05   \n",
      "2              0.0             NaN                    0.00   \n",
      "3              0.0            -1.0                    0.01   \n",
      "4              NaN             NaN                    0.00   \n",
      "5              NaN             NaN                     NaN   \n",
      "\n",
      "   Current traffic value  Traffic value change  Previous # of keywords  \\\n",
      "1                   0.03                 -0.02                      12   \n",
      "2                    NaN                  0.00                       3   \n",
      "3                   0.01                   NaN                       8   \n",
      "4                    NaN                  0.00                       1   \n",
      "5                    NaN                   NaN                       1   \n",
      "\n",
      "   Current # of keywords  Keywords change       Previous top keyword  \\\n",
      "1                   14.0                2  top christmas tree stands   \n",
      "2                    1.0               -2             merry mountain   \n",
      "3                    7.0               -1        auto christmas tree   \n",
      "4                    NaN               -1                 merrymount   \n",
      "5                    NaN               -1                merry mount   \n",
      "\n",
      "               Current top keyword Previous top keyword: Country  \\\n",
      "1  top rated christmas tree stands                 United States   \n",
      "2                   merry mountain                 United States   \n",
      "3              auto christmas tree                 United States   \n",
      "4                              NaN                 United States   \n",
      "5                              NaN                 United States   \n",
      "\n",
      "  Current top keyword: Country  Previous top keyword: Volume  \\\n",
      "1                United States                            50   \n",
      "2                United States                            20   \n",
      "3                United States                            80   \n",
      "4                          NaN                           100   \n",
      "5                          NaN                            40   \n",
      "\n",
      "   Current top keyword: Volume  Previous top keyword: Position  \\\n",
      "1                         50.0                              20   \n",
      "2                         20.0                              19   \n",
      "3                         80.0                              17   \n",
      "4                          NaN                              46   \n",
      "5                          NaN                              73   \n",
      "\n",
      "   Current top keyword: Position  Top keyword: Position change  \n",
      "1                           21.0                           NaN  \n",
      "2                           38.0                         -19.0  \n",
      "3                           24.0                          -7.0  \n",
      "4                            NaN                           NaN  \n",
      "5                            NaN                           NaN  \n",
      "\n",
      "Saved to Output/27_AHREFS_worst_performing_page.csv\n",
      "Saved to Output/28_AHREFS_bottom_5_performing_pages.csv\n",
      "saved\n"
     ]
    }
   ],
   "source": [
    "def a_extract_underperforming_pages(\n",
    "    output_folder,\n",
    "    top_5_worst_performing_pages=False,\n",
    "    save_csv_files=False\n",
    "):\n",
    "\n",
    "    # Process\n",
    "    a_underperforming_page = ah_pages.tail(1)\n",
    "    a_bottom_5_pages = ah_pages.tail(5) if top_5_worst_performing_pages else None\n",
    "\n",
    "    # Print Results\n",
    "    print(\"Worst Performing Page:\")\n",
    "    print(a_underperforming_page)\n",
    "    \n",
    "    if top_5_worst_performing_pages:\n",
    "        print(\"\\nBottom 5 Performing Pages:\")\n",
    "        print(a_bottom_5_pages)\n",
    "\n",
    "    # Save to CSV\n",
    "    if save_csv_files:\n",
    "        os.makedirs(output_folder, exist_ok=True)  \n",
    "        a_underperforming_page.to_csv(f\"{output_folder}/27_AHREFS_worst_performing_page.csv\", index=False)\n",
    "        print(f\"\\nSaved to {output_folder}/27_AHREFS_worst_performing_page.csv\")\n",
    "\n",
    "        if top_5_worst_performing_pages:\n",
    "            a_bottom_5_pages.to_csv(f\"{output_folder}/28_AHREFS_bottom_5_performing_pages.csv\", index=False)\n",
    "            print(f\"Saved to {output_folder}/28_AHREFS_bottom_5_performing_pages.csv\")\n",
    "\n",
    "    return a_underperforming_page, a_bottom_5_pages\n",
    "\n",
    "a_underperforming_page, a_bottom_5_pages = a_extract_underperforming_pages(output_folder, top_5_worst_performing_pages, save_csv_files)\n",
    "\n",
    "# Process Powerpoint\n",
    "a_bottom_page_ppt = a_underperforming_page.iloc[0]\n",
    "replacements = {\n",
    "    \"Website\": ppt_website,\n",
    "    \"bottompageurl\": str(a_bottom_page_ppt['URL']).rsplit('/', 1)[-1],\n",
    "    \"numberofkeywords\": str(a_bottom_page_ppt['Current # of keywords']) if pd.notna(a_bottom_page_ppt['Current # of keywords']) else \"0\",\n",
    "    \"bottompagetraffic\": str(a_bottom_page_ppt['Current traffic']) if pd.notna(a_bottom_page_ppt['Current traffic']) else \"0\",\n",
    "}\n",
    "\n",
    "slide19 = ppt.slides[18]\n",
    "for shape in slide19.shapes:\n",
    "    if not shape.has_text_frame:\n",
    "        continue\n",
    "    for paragraph in shape.text_frame.paragraphs:\n",
    "        for run in paragraph.runs:\n",
    "            for key, value in replacements.items():\n",
    "                if key in run.text:\n",
    "                    run.text = run.text.replace(key, value)\n",
    "\n",
    "left = Inches(0.5)\n",
    "top = Inches(2.8)\n",
    "rows = a_bottom_5_pages.shape[0] + 1\n",
    "cols = 3\n",
    "for shape in list(slide19.shapes):\n",
    "    if shape.shape_type == 19:  # 19 is for table shapes\n",
    "        slide19.shapes._spTree.remove(shape._element)\n",
    "table_shape = slide19.shapes.add_table(rows,cols,left,top,Inches(9),Inches(0.8+0.3*rows))\n",
    "table = table_shape.table\n",
    "column_widths = {\n",
    "    0: 5000000,  # URL\n",
    "    1: 1200000,  # Current Traffic\n",
    "    2: 1200000,  # Current # of keywords\n",
    "}\n",
    "for col_idx, width in column_widths.items():\n",
    "    table.columns[col_idx].width = width\n",
    "headers = [\"URL\", \"Current traffic\", \"Current # of keywords\"]\n",
    "for col_idx, header in enumerate(headers):\n",
    "    cell = table.cell(0, col_idx)\n",
    "    cell.text = header\n",
    "    for paragraph in cell.text_frame.paragraphs:\n",
    "        for run in paragraph.runs:\n",
    "            run.font.bold = True\n",
    "            run.font.size = Pt(10)\n",
    "for row_idx, (_, row_data) in enumerate(a_bottom_5_pages[headers].fillna(\"0\").iterrows()):\n",
    "    for col_idx, col_name in enumerate(headers):\n",
    "        try:\n",
    "            cell = table.cell(row_idx + 1, col_idx)\n",
    "            cell.text = str(row_data[col_name])\n",
    "            for paragraph in cell.text_frame.paragraphs:\n",
    "                for run in paragraph.runs:\n",
    "                    run.font.size = Pt(10)\n",
    "        except IndexError:\n",
    "            print(f\"Skipped row {row_idx}, column {col_idx} due to table size mismatch.\")\n",
    "\n",
    "ppt.save(f\"{month}_{year}_Performance_Report.pptx\")\n",
    "print(\"saved\")"
   ]
  }
 ],
 "metadata": {
  "kernelspec": {
   "display_name": "Python 3 (ipykernel)",
   "language": "python",
   "name": "python3"
  },
  "language_info": {
   "codemirror_mode": {
    "name": "ipython",
    "version": 3
   },
   "file_extension": ".py",
   "mimetype": "text/x-python",
   "name": "python",
   "nbconvert_exporter": "python",
   "pygments_lexer": "ipython3",
   "version": "3.13.0"
  }
 },
 "nbformat": 4,
 "nbformat_minor": 5
}
